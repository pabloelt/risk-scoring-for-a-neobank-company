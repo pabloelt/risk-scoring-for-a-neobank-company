{
 "cells": [
  {
   "cell_type": "markdown",
   "id": "d31dea65",
   "metadata": {},
   "source": [
    "# CALIDAD DE DATOS"
   ]
  },
  {
   "cell_type": "markdown",
   "id": "swiss-fault",
   "metadata": {},
   "source": [
    "## IMPORTAR PAQUETES"
   ]
  },
  {
   "cell_type": "code",
   "execution_count": 1,
   "id": "adjacent-toddler",
   "metadata": {},
   "outputs": [],
   "source": [
    "import numpy as np\n",
    "import pandas as pd\n",
    "from janitor import clean_names\n",
    "\n",
    "#Automcompletar rápido\n",
    "%config IPCompleter.greedy=True\n",
    "\n",
    "#Desactivar notación científica\n",
    "pd.options.display.float_format = '{:,.2f}'.format"
   ]
  },
  {
   "cell_type": "markdown",
   "id": "graduate-compensation",
   "metadata": {},
   "source": [
    "## IMPORTAR LOS DATOS"
   ]
  },
  {
   "cell_type": "markdown",
   "id": "38bb812b",
   "metadata": {},
   "source": [
    "Sustituir la ruta del proyecto."
   ]
  },
  {
   "cell_type": "code",
   "execution_count": 2,
   "id": "28c63848",
   "metadata": {},
   "outputs": [],
   "source": [
    "ruta_proyecto = 'C:/Users/pelop/OneDrive/Desktop/Curso Data Science Pedro/2 CURSO DATA SCIENCE/03_MACHINE_LEARNING/07_CASOS/03_RIESGOS'"
   ]
  },
  {
   "cell_type": "markdown",
   "id": "ba473b09",
   "metadata": {},
   "source": [
    "Sustituir el nombre_fichero_datos."
   ]
  },
  {
   "cell_type": "code",
   "execution_count": 3,
   "id": "5d9dc5ea",
   "metadata": {},
   "outputs": [],
   "source": [
    "nombre_fichero_datos = 'trabajo.csv'"
   ]
  },
  {
   "cell_type": "markdown",
   "id": "ae75bf0b",
   "metadata": {},
   "source": [
    "Cargar los datos."
   ]
  },
  {
   "cell_type": "code",
   "execution_count": 4,
   "id": "24ff453b",
   "metadata": {},
   "outputs": [
    {
     "data": {
      "text/html": [
       "<div>\n",
       "<style scoped>\n",
       "    .dataframe tbody tr th:only-of-type {\n",
       "        vertical-align: middle;\n",
       "    }\n",
       "\n",
       "    .dataframe tbody tr th {\n",
       "        vertical-align: top;\n",
       "    }\n",
       "\n",
       "    .dataframe thead th {\n",
       "        text-align: right;\n",
       "    }\n",
       "</style>\n",
       "<table border=\"1\" class=\"dataframe\">\n",
       "  <thead>\n",
       "    <tr style=\"text-align: right;\">\n",
       "      <th></th>\n",
       "      <th>Unnamed: 0</th>\n",
       "      <th>empleo</th>\n",
       "      <th>antigüedad_empleo</th>\n",
       "      <th>ingresos</th>\n",
       "      <th>ingresos_verificados</th>\n",
       "      <th>rating</th>\n",
       "      <th>dti</th>\n",
       "      <th>vivienda</th>\n",
       "      <th>num_hipotecas</th>\n",
       "      <th>num_lineas_credito</th>\n",
       "      <th>...</th>\n",
       "      <th>id_prestamo</th>\n",
       "      <th>descripcion</th>\n",
       "      <th>finalidad</th>\n",
       "      <th>principal</th>\n",
       "      <th>tipo_interes</th>\n",
       "      <th>num_cuotas</th>\n",
       "      <th>imp_cuota</th>\n",
       "      <th>imp_amortizado</th>\n",
       "      <th>estado</th>\n",
       "      <th>imp_recuperado</th>\n",
       "    </tr>\n",
       "    <tr>\n",
       "      <th>id_cliente</th>\n",
       "      <th></th>\n",
       "      <th></th>\n",
       "      <th></th>\n",
       "      <th></th>\n",
       "      <th></th>\n",
       "      <th></th>\n",
       "      <th></th>\n",
       "      <th></th>\n",
       "      <th></th>\n",
       "      <th></th>\n",
       "      <th></th>\n",
       "      <th></th>\n",
       "      <th></th>\n",
       "      <th></th>\n",
       "      <th></th>\n",
       "      <th></th>\n",
       "      <th></th>\n",
       "      <th></th>\n",
       "      <th></th>\n",
       "      <th></th>\n",
       "      <th></th>\n",
       "    </tr>\n",
       "  </thead>\n",
       "  <tbody>\n",
       "    <tr>\n",
       "      <th>137387967</th>\n",
       "      <td>0</td>\n",
       "      <td>Hvac technician</td>\n",
       "      <td>3 years</td>\n",
       "      <td>54,000.00</td>\n",
       "      <td>Source Verified</td>\n",
       "      <td>A</td>\n",
       "      <td>19.31</td>\n",
       "      <td>MORTGAGE</td>\n",
       "      <td>2.00</td>\n",
       "      <td>10.00</td>\n",
       "      <td>...</td>\n",
       "      <td>NaN</td>\n",
       "      <td>NaN</td>\n",
       "      <td>debt_consolidation</td>\n",
       "      <td>15,000.00</td>\n",
       "      <td>7.21</td>\n",
       "      <td>36 months</td>\n",
       "      <td>464.60</td>\n",
       "      <td>2,669.06</td>\n",
       "      <td>Current</td>\n",
       "      <td>0.00</td>\n",
       "    </tr>\n",
       "    <tr>\n",
       "      <th>4798121</th>\n",
       "      <td>1</td>\n",
       "      <td>Target Promotions and Marketing,Inc</td>\n",
       "      <td>10+ years</td>\n",
       "      <td>65,000.00</td>\n",
       "      <td>Not Verified</td>\n",
       "      <td>D</td>\n",
       "      <td>25.40</td>\n",
       "      <td>RENT</td>\n",
       "      <td>1.00</td>\n",
       "      <td>15.00</td>\n",
       "      <td>...</td>\n",
       "      <td>NaN</td>\n",
       "      <td>NaN</td>\n",
       "      <td>debt_consolidation</td>\n",
       "      <td>10,000.00</td>\n",
       "      <td>17.77</td>\n",
       "      <td>36 months</td>\n",
       "      <td>360.38</td>\n",
       "      <td>6,362.96</td>\n",
       "      <td>Charged Off</td>\n",
       "      <td>0.00</td>\n",
       "    </tr>\n",
       "    <tr>\n",
       "      <th>46641215</th>\n",
       "      <td>2</td>\n",
       "      <td>Banker</td>\n",
       "      <td>5 years</td>\n",
       "      <td>135,000.00</td>\n",
       "      <td>Verified</td>\n",
       "      <td>A</td>\n",
       "      <td>14.68</td>\n",
       "      <td>RENT</td>\n",
       "      <td>0.00</td>\n",
       "      <td>19.00</td>\n",
       "      <td>...</td>\n",
       "      <td>NaN</td>\n",
       "      <td>NaN</td>\n",
       "      <td>debt_consolidation</td>\n",
       "      <td>24,000.00</td>\n",
       "      <td>6.39</td>\n",
       "      <td>36 months</td>\n",
       "      <td>734.38</td>\n",
       "      <td>24,000.00</td>\n",
       "      <td>Fully Paid</td>\n",
       "      <td>0.00</td>\n",
       "    </tr>\n",
       "    <tr>\n",
       "      <th>87998444</th>\n",
       "      <td>3</td>\n",
       "      <td>executive director</td>\n",
       "      <td>9 years</td>\n",
       "      <td>188,000.00</td>\n",
       "      <td>Source Verified</td>\n",
       "      <td>B</td>\n",
       "      <td>11.69</td>\n",
       "      <td>MORTGAGE</td>\n",
       "      <td>3.00</td>\n",
       "      <td>15.00</td>\n",
       "      <td>...</td>\n",
       "      <td>NaN</td>\n",
       "      <td>NaN</td>\n",
       "      <td>credit_card</td>\n",
       "      <td>27,000.00</td>\n",
       "      <td>8.99</td>\n",
       "      <td>60 months</td>\n",
       "      <td>560.35</td>\n",
       "      <td>12,443.00</td>\n",
       "      <td>Current</td>\n",
       "      <td>0.00</td>\n",
       "    </tr>\n",
       "    <tr>\n",
       "      <th>131289518</th>\n",
       "      <td>5</td>\n",
       "      <td>NaN</td>\n",
       "      <td>10+ years</td>\n",
       "      <td>72,777.00</td>\n",
       "      <td>Source Verified</td>\n",
       "      <td>D</td>\n",
       "      <td>24.74</td>\n",
       "      <td>MORTGAGE</td>\n",
       "      <td>2.00</td>\n",
       "      <td>10.00</td>\n",
       "      <td>...</td>\n",
       "      <td>NaN</td>\n",
       "      <td>NaN</td>\n",
       "      <td>home_improvement</td>\n",
       "      <td>25,000.00</td>\n",
       "      <td>21.85</td>\n",
       "      <td>60 months</td>\n",
       "      <td>688.35</td>\n",
       "      <td>2,811.27</td>\n",
       "      <td>Current</td>\n",
       "      <td>0.00</td>\n",
       "    </tr>\n",
       "    <tr>\n",
       "      <th>...</th>\n",
       "      <td>...</td>\n",
       "      <td>...</td>\n",
       "      <td>...</td>\n",
       "      <td>...</td>\n",
       "      <td>...</td>\n",
       "      <td>...</td>\n",
       "      <td>...</td>\n",
       "      <td>...</td>\n",
       "      <td>...</td>\n",
       "      <td>...</td>\n",
       "      <td>...</td>\n",
       "      <td>...</td>\n",
       "      <td>...</td>\n",
       "      <td>...</td>\n",
       "      <td>...</td>\n",
       "      <td>...</td>\n",
       "      <td>...</td>\n",
       "      <td>...</td>\n",
       "      <td>...</td>\n",
       "      <td>...</td>\n",
       "      <td>...</td>\n",
       "    </tr>\n",
       "    <tr>\n",
       "      <th>129396054</th>\n",
       "      <td>199993</td>\n",
       "      <td>Field Manager</td>\n",
       "      <td>10+ years</td>\n",
       "      <td>55,000.00</td>\n",
       "      <td>Source Verified</td>\n",
       "      <td>D</td>\n",
       "      <td>15.36</td>\n",
       "      <td>OWN</td>\n",
       "      <td>1.00</td>\n",
       "      <td>7.00</td>\n",
       "      <td>...</td>\n",
       "      <td>NaN</td>\n",
       "      <td>NaN</td>\n",
       "      <td>debt_consolidation</td>\n",
       "      <td>14,400.00</td>\n",
       "      <td>17.47</td>\n",
       "      <td>60 months</td>\n",
       "      <td>361.53</td>\n",
       "      <td>1,975.94</td>\n",
       "      <td>Current</td>\n",
       "      <td>0.00</td>\n",
       "    </tr>\n",
       "    <tr>\n",
       "      <th>119242742</th>\n",
       "      <td>199994</td>\n",
       "      <td>NaN</td>\n",
       "      <td>NaN</td>\n",
       "      <td>20,000.00</td>\n",
       "      <td>Source Verified</td>\n",
       "      <td>C</td>\n",
       "      <td>8.02</td>\n",
       "      <td>RENT</td>\n",
       "      <td>0.00</td>\n",
       "      <td>5.00</td>\n",
       "      <td>...</td>\n",
       "      <td>NaN</td>\n",
       "      <td>NaN</td>\n",
       "      <td>debt_consolidation</td>\n",
       "      <td>2,500.00</td>\n",
       "      <td>12.62</td>\n",
       "      <td>36 months</td>\n",
       "      <td>83.78</td>\n",
       "      <td>996.06</td>\n",
       "      <td>Late (31-120 days)</td>\n",
       "      <td>0.00</td>\n",
       "    </tr>\n",
       "    <tr>\n",
       "      <th>121031962</th>\n",
       "      <td>199996</td>\n",
       "      <td>Owner &amp; President</td>\n",
       "      <td>6 years</td>\n",
       "      <td>111,697.00</td>\n",
       "      <td>Verified</td>\n",
       "      <td>B</td>\n",
       "      <td>16.63</td>\n",
       "      <td>MORTGAGE</td>\n",
       "      <td>2.00</td>\n",
       "      <td>10.00</td>\n",
       "      <td>...</td>\n",
       "      <td>NaN</td>\n",
       "      <td>NaN</td>\n",
       "      <td>other</td>\n",
       "      <td>10,000.00</td>\n",
       "      <td>9.44</td>\n",
       "      <td>36 months</td>\n",
       "      <td>320.05</td>\n",
       "      <td>4,388.51</td>\n",
       "      <td>Current</td>\n",
       "      <td>0.00</td>\n",
       "    </tr>\n",
       "    <tr>\n",
       "      <th>135641397</th>\n",
       "      <td>199997</td>\n",
       "      <td>Sr. Field Engineer</td>\n",
       "      <td>10+ years</td>\n",
       "      <td>285,000.00</td>\n",
       "      <td>Source Verified</td>\n",
       "      <td>D</td>\n",
       "      <td>6.02</td>\n",
       "      <td>MORTGAGE</td>\n",
       "      <td>3.00</td>\n",
       "      <td>9.00</td>\n",
       "      <td>...</td>\n",
       "      <td>NaN</td>\n",
       "      <td>NaN</td>\n",
       "      <td>small_business</td>\n",
       "      <td>30,000.00</td>\n",
       "      <td>17.47</td>\n",
       "      <td>36 months</td>\n",
       "      <td>1,076.62</td>\n",
       "      <td>5,387.53</td>\n",
       "      <td>Current</td>\n",
       "      <td>0.00</td>\n",
       "    </tr>\n",
       "    <tr>\n",
       "      <th>53664762</th>\n",
       "      <td>199998</td>\n",
       "      <td>Attorney</td>\n",
       "      <td>8 years</td>\n",
       "      <td>168,000.00</td>\n",
       "      <td>Source Verified</td>\n",
       "      <td>E</td>\n",
       "      <td>4.69</td>\n",
       "      <td>RENT</td>\n",
       "      <td>0.00</td>\n",
       "      <td>8.00</td>\n",
       "      <td>...</td>\n",
       "      <td>NaN</td>\n",
       "      <td>NaN</td>\n",
       "      <td>small_business</td>\n",
       "      <td>30,050.00</td>\n",
       "      <td>18.25</td>\n",
       "      <td>60 months</td>\n",
       "      <td>767.17</td>\n",
       "      <td>2,964.44</td>\n",
       "      <td>Charged Off</td>\n",
       "      <td>2,750.88</td>\n",
       "    </tr>\n",
       "  </tbody>\n",
       "</table>\n",
       "<p>140000 rows × 25 columns</p>\n",
       "</div>"
      ],
      "text/plain": [
       "            Unnamed: 0                               empleo antigüedad_empleo  \\\n",
       "id_cliente                                                                      \n",
       "137387967            0                     Hvac technician            3 years   \n",
       "4798121              1  Target Promotions and Marketing,Inc         10+ years   \n",
       "46641215             2                               Banker           5 years   \n",
       "87998444             3                   executive director           9 years   \n",
       "131289518            5                                  NaN         10+ years   \n",
       "...                ...                                  ...               ...   \n",
       "129396054       199993                        Field Manager         10+ years   \n",
       "119242742       199994                                  NaN               NaN   \n",
       "121031962       199996                    Owner & President           6 years   \n",
       "135641397       199997                   Sr. Field Engineer         10+ years   \n",
       "53664762        199998                             Attorney           8 years   \n",
       "\n",
       "             ingresos ingresos_verificados rating   dti  vivienda  \\\n",
       "id_cliente                                                          \n",
       "137387967   54,000.00      Source Verified      A 19.31  MORTGAGE   \n",
       "4798121     65,000.00         Not Verified      D 25.40      RENT   \n",
       "46641215   135,000.00             Verified      A 14.68      RENT   \n",
       "87998444   188,000.00      Source Verified      B 11.69  MORTGAGE   \n",
       "131289518   72,777.00      Source Verified      D 24.74  MORTGAGE   \n",
       "...               ...                  ...    ...   ...       ...   \n",
       "129396054   55,000.00      Source Verified      D 15.36       OWN   \n",
       "119242742   20,000.00      Source Verified      C  8.02      RENT   \n",
       "121031962  111,697.00             Verified      B 16.63  MORTGAGE   \n",
       "135641397  285,000.00      Source Verified      D  6.02  MORTGAGE   \n",
       "53664762   168,000.00      Source Verified      E  4.69      RENT   \n",
       "\n",
       "            num_hipotecas  num_lineas_credito  ...  id_prestamo  descripcion  \\\n",
       "id_cliente                                     ...                             \n",
       "137387967            2.00               10.00  ...          NaN          NaN   \n",
       "4798121              1.00               15.00  ...          NaN          NaN   \n",
       "46641215             0.00               19.00  ...          NaN          NaN   \n",
       "87998444             3.00               15.00  ...          NaN          NaN   \n",
       "131289518            2.00               10.00  ...          NaN          NaN   \n",
       "...                   ...                 ...  ...          ...          ...   \n",
       "129396054            1.00                7.00  ...          NaN          NaN   \n",
       "119242742            0.00                5.00  ...          NaN          NaN   \n",
       "121031962            2.00               10.00  ...          NaN          NaN   \n",
       "135641397            3.00                9.00  ...          NaN          NaN   \n",
       "53664762             0.00                8.00  ...          NaN          NaN   \n",
       "\n",
       "                     finalidad  principal  tipo_interes  num_cuotas imp_cuota  \\\n",
       "id_cliente                                                                      \n",
       "137387967   debt_consolidation  15,000.00          7.21   36 months    464.60   \n",
       "4798121     debt_consolidation  10,000.00         17.77   36 months    360.38   \n",
       "46641215    debt_consolidation  24,000.00          6.39   36 months    734.38   \n",
       "87998444           credit_card  27,000.00          8.99   60 months    560.35   \n",
       "131289518     home_improvement  25,000.00         21.85   60 months    688.35   \n",
       "...                        ...        ...           ...         ...       ...   \n",
       "129396054   debt_consolidation  14,400.00         17.47   60 months    361.53   \n",
       "119242742   debt_consolidation   2,500.00         12.62   36 months     83.78   \n",
       "121031962                other  10,000.00          9.44   36 months    320.05   \n",
       "135641397       small_business  30,000.00         17.47   36 months  1,076.62   \n",
       "53664762        small_business  30,050.00         18.25   60 months    767.17   \n",
       "\n",
       "           imp_amortizado              estado  imp_recuperado  \n",
       "id_cliente                                                     \n",
       "137387967        2,669.06             Current            0.00  \n",
       "4798121          6,362.96         Charged Off            0.00  \n",
       "46641215        24,000.00          Fully Paid            0.00  \n",
       "87998444        12,443.00             Current            0.00  \n",
       "131289518        2,811.27             Current            0.00  \n",
       "...                   ...                 ...             ...  \n",
       "129396054        1,975.94             Current            0.00  \n",
       "119242742          996.06  Late (31-120 days)            0.00  \n",
       "121031962        4,388.51             Current            0.00  \n",
       "135641397        5,387.53             Current            0.00  \n",
       "53664762         2,964.44         Charged Off        2,750.88  \n",
       "\n",
       "[140000 rows x 25 columns]"
      ]
     },
     "execution_count": 4,
     "metadata": {},
     "output_type": "execute_result"
    }
   ],
   "source": [
    "ruta_completa = ruta_proyecto + '/02_Datos/03_Trabajo/' + nombre_fichero_datos\n",
    "\n",
    "df = pd.read_csv(ruta_completa,index_col='id_cliente')\n",
    "df"
   ]
  },
  {
   "cell_type": "markdown",
   "id": "d2d5443c",
   "metadata": {},
   "source": [
    "## VISIÓN GENERAL"
   ]
  },
  {
   "cell_type": "code",
   "execution_count": 5,
   "id": "976c8ac6",
   "metadata": {},
   "outputs": [
    {
     "name": "stdout",
     "output_type": "stream",
     "text": [
      "<class 'pandas.core.frame.DataFrame'>\n",
      "Index: 140000 entries, 137387967 to 53664762\n",
      "Data columns (total 25 columns):\n",
      " #   Column                       Non-Null Count   Dtype  \n",
      "---  ------                       --------------   -----  \n",
      " 0   Unnamed: 0                   140000 non-null  int64  \n",
      " 1   empleo                       129647 non-null  object \n",
      " 2   antigüedad_empleo            130941 non-null  object \n",
      " 3   ingresos                     140000 non-null  float64\n",
      " 4   ingresos_verificados         140000 non-null  object \n",
      " 5   rating                       140000 non-null  object \n",
      " 6   dti                          139892 non-null  float64\n",
      " 7   vivienda                     140000 non-null  object \n",
      " 8   num_hipotecas                136927 non-null  float64\n",
      " 9   num_lineas_credito           139997 non-null  float64\n",
      " 10  porc_tarjetas_75p            135336 non-null  float64\n",
      " 11  porc_uso_revolving           139893 non-null  float64\n",
      " 12  num_cancelaciones_12meses    139989 non-null  float64\n",
      " 13  num_derogatorios             139997 non-null  float64\n",
      " 14  num_meses_desde_ult_retraso  68166 non-null   float64\n",
      " 15  id_prestamo                  0 non-null       float64\n",
      " 16  descripcion                  7868 non-null    object \n",
      " 17  finalidad                    140000 non-null  object \n",
      " 18  principal                    140000 non-null  float64\n",
      " 19  tipo_interes                 140000 non-null  float64\n",
      " 20  num_cuotas                   140000 non-null  object \n",
      " 21  imp_cuota                    140000 non-null  float64\n",
      " 22  imp_amortizado               140000 non-null  float64\n",
      " 23  estado                       140000 non-null  object \n",
      " 24  imp_recuperado               140000 non-null  float64\n",
      "dtypes: float64(15), int64(1), object(9)\n",
      "memory usage: 27.8+ MB\n"
     ]
    }
   ],
   "source": [
    "df.info()"
   ]
  },
  {
   "cell_type": "markdown",
   "id": "e96f1c4e",
   "metadata": {},
   "source": [
    "### Corrección"
   ]
  },
  {
   "cell_type": "markdown",
   "id": "dea3f8ac",
   "metadata": {},
   "source": [
    "Eliminar la variable Unnamed: 0"
   ]
  },
  {
   "cell_type": "code",
   "execution_count": 6,
   "id": "94cccc38",
   "metadata": {},
   "outputs": [],
   "source": [
    "df.drop(columns='Unnamed: 0',inplace=True)"
   ]
  },
  {
   "cell_type": "markdown",
   "id": "158ee1d7",
   "metadata": {},
   "source": [
    "## TIPOS DE DATOS"
   ]
  },
  {
   "cell_type": "markdown",
   "id": "88162727",
   "metadata": {},
   "source": [
    "### Identificación"
   ]
  },
  {
   "cell_type": "code",
   "execution_count": 19,
   "id": "197a99c2",
   "metadata": {},
   "outputs": [
    {
     "data": {
      "text/plain": [
       "empleo                          object\n",
       "antigüedad_empleo               object\n",
       "ingresos                       float64\n",
       "ingresos_verificados            object\n",
       "rating                          object\n",
       "dti                            float64\n",
       "vivienda                        object\n",
       "num_hipotecas                  float64\n",
       "num_lineas_credito             float64\n",
       "porc_tarjetas_75p              float64\n",
       "porc_uso_revolving             float64\n",
       "num_cancelaciones_12meses      float64\n",
       "num_derogatorios               float64\n",
       "num_meses_desde_ult_retraso    float64\n",
       "descripcion                     object\n",
       "finalidad                       object\n",
       "principal                      float64\n",
       "tipo_interes                   float64\n",
       "num_cuotas                      object\n",
       "imp_cuota                      float64\n",
       "imp_amortizado                 float64\n",
       "estado                          object\n",
       "imp_recuperado                 float64\n",
       "dtype: object"
      ]
     },
     "execution_count": 19,
     "metadata": {},
     "output_type": "execute_result"
    }
   ],
   "source": [
    "df.dtypes"
   ]
  },
  {
   "cell_type": "markdown",
   "id": "f29bc3fb",
   "metadata": {},
   "source": [
    "Conclusiones:\n",
    "\n",
    "* Todo correcto en cuanto a tipo de datos"
   ]
  },
  {
   "cell_type": "markdown",
   "id": "cc8d4a22",
   "metadata": {},
   "source": [
    "## VALORES ÚNICOS"
   ]
  },
  {
   "cell_type": "markdown",
   "id": "f21f0e36",
   "metadata": {},
   "source": [
    "### Identificación"
   ]
  },
  {
   "cell_type": "code",
   "execution_count": 10,
   "id": "6e53e444",
   "metadata": {},
   "outputs": [
    {
     "data": {
      "text/plain": [
       "id_prestamo                        0\n",
       "num_cuotas                         2\n",
       "ingresos_verificados               3\n",
       "vivienda                           6\n",
       "num_cancelaciones_12meses          7\n",
       "rating                             7\n",
       "estado                             9\n",
       "antigüedad_empleo                 11\n",
       "finalidad                         14\n",
       "num_derogatorios                  19\n",
       "num_hipotecas                     25\n",
       "num_lineas_credito                62\n",
       "num_meses_desde_ult_retraso      130\n",
       "porc_tarjetas_75p                168\n",
       "tipo_interes                     585\n",
       "porc_uso_revolving              1103\n",
       "principal                       1466\n",
       "dti                             5280\n",
       "descripcion                     7845\n",
       "imp_recuperado                 10600\n",
       "ingresos                       11570\n",
       "imp_cuota                      33602\n",
       "empleo                         54485\n",
       "imp_amortizado                 57564\n",
       "dtype: int64"
      ]
     },
     "execution_count": 10,
     "metadata": {},
     "output_type": "execute_result"
    }
   ],
   "source": [
    "df.nunique().sort_values()"
   ]
  },
  {
   "cell_type": "markdown",
   "id": "a1106594",
   "metadata": {},
   "source": [
    "Conclusiones:\n",
    "\n",
    "* id_prestamo con menos de 2 valores --> eliminar"
   ]
  },
  {
   "cell_type": "markdown",
   "id": "b1d1a668",
   "metadata": {},
   "source": [
    "### Corrección"
   ]
  },
  {
   "cell_type": "code",
   "execution_count": 11,
   "id": "62f7d14e",
   "metadata": {},
   "outputs": [],
   "source": [
    "df.drop(columns = 'id_prestamo', inplace = True)"
   ]
  },
  {
   "cell_type": "markdown",
   "id": "e25cfc89",
   "metadata": {},
   "source": [
    "## DUPLICADOS"
   ]
  },
  {
   "cell_type": "markdown",
   "id": "8a079ed3",
   "metadata": {},
   "source": [
    "### Identificación"
   ]
  },
  {
   "cell_type": "code",
   "execution_count": 12,
   "id": "f5b23bfc",
   "metadata": {
    "scrolled": true
   },
   "outputs": [
    {
     "data": {
      "text/plain": [
       "0"
      ]
     },
     "execution_count": 12,
     "metadata": {},
     "output_type": "execute_result"
    }
   ],
   "source": [
    "df.duplicated().sum()"
   ]
  },
  {
   "cell_type": "markdown",
   "id": "632ec2cd",
   "metadata": {},
   "source": [
    "## SEPARAR NUMÉRICAS Y CATEGÓRICAS"
   ]
  },
  {
   "cell_type": "markdown",
   "id": "573a61ac",
   "metadata": {},
   "source": [
    "### Categóricas"
   ]
  },
  {
   "cell_type": "code",
   "execution_count": 20,
   "id": "47a7eece",
   "metadata": {},
   "outputs": [],
   "source": [
    "cat = df.select_dtypes(exclude = 'number').copy()"
   ]
  },
  {
   "cell_type": "markdown",
   "id": "41756893",
   "metadata": {},
   "source": [
    "### Numéricas"
   ]
  },
  {
   "cell_type": "code",
   "execution_count": 21,
   "id": "59140e9a",
   "metadata": {},
   "outputs": [],
   "source": [
    "num = df.select_dtypes(include='number').copy()"
   ]
  },
  {
   "cell_type": "markdown",
   "id": "5e7d8e7e",
   "metadata": {},
   "source": [
    "## GESTIÓN DE CATEGÓRICAS"
   ]
  },
  {
   "cell_type": "markdown",
   "id": "5b5808b7",
   "metadata": {},
   "source": [
    "### Nulos"
   ]
  },
  {
   "cell_type": "markdown",
   "id": "5c08ca55",
   "metadata": {},
   "source": [
    "#### Identificación"
   ]
  },
  {
   "cell_type": "code",
   "execution_count": 22,
   "id": "da49ae63",
   "metadata": {},
   "outputs": [
    {
     "data": {
      "text/plain": [
       "descripcion             132132\n",
       "empleo                   10353\n",
       "antigüedad_empleo         9059\n",
       "ingresos_verificados         0\n",
       "rating                       0\n",
       "vivienda                     0\n",
       "finalidad                    0\n",
       "num_cuotas                   0\n",
       "estado                       0\n",
       "dtype: int64"
      ]
     },
     "execution_count": 22,
     "metadata": {},
     "output_type": "execute_result"
    }
   ],
   "source": [
    "cat.isna().sum().sort_values(ascending = False)"
   ]
  },
  {
   "cell_type": "code",
   "execution_count": 24,
   "id": "b95992ce",
   "metadata": {},
   "outputs": [
    {
     "data": {
      "text/plain": [
       "descripcion\n",
       "NaN                                                                                                                                                                                                                                                                                                                                                                                                                                                                                                                                                                                                                                                                                                                                                                                                                                                                                                                                                                                                                                                                                                                                                                                                                                                                                                                                                                                           132132\n",
       "                                                                                                                                                                                                                                                                                                                                                                                                                                                                                                                                                                                                                                                                                                                                                                                                                                                                                                                                                                                                                                                                                                                                                                                                                                                                                                                                                                                                  17\n",
       "  Borrower added on 01/26/14 > Debt Consolidation<br>                                                                                                                                                                                                                                                                                                                                                                                                                                                                                                                                                                                                                                                                                                                                                                                                                                                                                                                                                                                                                                                                                                                                                                                                                                                                                                                                              2\n",
       "  Borrower added on 06/26/13 > Debt Consolidation<br>                                                                                                                                                                                                                                                                                                                                                                                                                                                                                                                                                                                                                                                                                                                                                                                                                                                                                                                                                                                                                                                                                                                                                                                                                                                                                                                                              2\n",
       "  Borrower added on 10/07/13 > Debt consolidation<br>                                                                                                                                                                                                                                                                                                                                                                                                                                                                                                                                                                                                                                                                                                                                                                                                                                                                                                                                                                                                                                                                                                                                                                                                                                                                                                                                              2\n",
       "                                                                                                                                                                                                                                                                                                                                                                                                                                                                                                                                                                                                                                                                                                                                                                                                                                                                                                                                                                                                                                                                                                                                                                                                                                                                                                                                                                                               ...  \n",
       "  Borrower added on 06/13/13 > My loan is for credit cards that have high interest rates that I would like to pay off sooner and not have to pay all that interest.<br>                                                                                                                                                                                                                                                                                                                                                                                                                                                                                                                                                                                                                                                                                                                                                                                                                                                                                                                                                                                                                                                                                                                                                                                                                            1\n",
       "This loan is for our wedding. We are requesting $15,000 to cover the majority of the wedding expenses. We are more than able to pay monthly expenses, we just don't have $15,000 in savings because we are just starting out. We just moved to MD a little over a year ago. We are getting married in upstate NY, where we are both from and where our families still live. We have planned a beautiful wedding and can't wait until the day arrives. We just need a little cash to help us get there!! =)                                                                                                                                                                                                                                                                                                                                                                                                                                                                                                                                                                                                                                                                                                                                                                                                                                                                                         1\n",
       " 584496 added on 12/03/09 > This loan is to refinance the credit cards which the rates were raised by the banks/and or limits lowered due to the economy.  In addition to reported income, I also receive monthly bonuses in the range from $250 to $3000.<br/> 584496 added on 12/03/09 > I am an attorney and I just started a much better paying position.  Previously I work for the courts and successfully completed an extensive background check.  By the standards set by our profession, our livelihood could be in jeopardy if we failed to uphold our financial obligations.  You can count on your loan being paid back and very likely in a shorter term than 3 years.<br/> 584496 added on 12/08/09 > I have submitted my paystubs for the lending club credit review team.<br/>                                                                                                                                                                                                                                                                                                                                                                                                                                                                                                                                                                                                    1\n",
       " 574841 added on 11/16/09 > Hello.  I have always paid my bills 99% on time over the past 15 years.  I am consolidating my 3 cards into one payment.  I am feed up having near perfect credit and I get penalized by jumping interest rate to cover other people in this economy that have chosen to live beyond their means.<br/><br/>I own my place.  Paid in full.<br/> 574841 added on 11/16/09 > I own two cars both paid for.  Have extra income coming in from tenant in my condo plus living rent free in my parents second home care taking.<br/> 574841 added on 11/17/09 > I am in my 30's.  Single.  No wife.  No girlfriend. No kids.  Very Happy getting myself established first.  <br/><br/>MONTHLY EXPENSES<br/><br/>HOA Dues                   $126.00<br/>Health Insurance         $119.00<br/>Cell                            $ 55.00<br/>Cable/DSL                   $  45.00<br/>Homeowners Insurance   $ 15.00<br/>Electric                        $ 25-40<br/>Car Insurance               $  55.00<br/>Credit Cards(Total 3 cards with balance.  Total Min. all 3<br/>                                  $ 162.00<br/><br/>Thanks for investing..Getting a second job soon as well<br/>Positive Return..Give you my \"Word\"<br/> 574841 added on 11/21/09 > Well got the second job.  Will be starting after Thanksgiving.  Its only 2-3 shifts a week for now.<br/>         1\n",
       "  Borrower added on 11/01/11 > Looking to use this loan to repay my large credit card debits.  I have always paid all of my debt payments on time, and am trying to get out from underneath all of this credit card debt now.  I have an extremely safe job as I work for a very conservative international mutual fund company, which I have been employed by for 5 years now.  Please let me know if you would like any further information about this loan.<br/><br/>Thanks!<br/>                                                                                                                                                                                                                                                                                                                                                                                                                                                                                                                                                                                                                                                                                                                                                                                                                                                                                                               1\n",
       "Name: count, Length: 7846, dtype: int64"
      ]
     },
     "execution_count": 24,
     "metadata": {},
     "output_type": "execute_result"
    }
   ],
   "source": [
    "cat.descripcion.value_counts(dropna=False)"
   ]
  },
  {
   "cell_type": "code",
   "execution_count": 25,
   "id": "d3b9f1e7",
   "metadata": {},
   "outputs": [
    {
     "data": {
      "text/plain": [
       "empleo\n",
       "NaN                           10353\n",
       "Teacher                        2468\n",
       "Manager                        2174\n",
       "Owner                          1376\n",
       "Registered Nurse               1002\n",
       "                              ...  \n",
       "Admin Air dept. Clerk             1\n",
       "South Jersey Newspapers           1\n",
       "Rehabilitation director           1\n",
       "Senior Health Care Analyst        1\n",
       "Sr. Field Engineer                1\n",
       "Name: count, Length: 54486, dtype: int64"
      ]
     },
     "execution_count": 25,
     "metadata": {},
     "output_type": "execute_result"
    }
   ],
   "source": [
    "cat.empleo.value_counts(dropna=False)"
   ]
  },
  {
   "cell_type": "code",
   "execution_count": 26,
   "id": "cac1218b",
   "metadata": {},
   "outputs": [
    {
     "data": {
      "text/plain": [
       "antigüedad_empleo\n",
       "10+ years    46097\n",
       "2 years      12420\n",
       "< 1 year     11811\n",
       "3 years      11315\n",
       "1 year        9089\n",
       "NaN           9059\n",
       "5 years       8726\n",
       "4 years       8523\n",
       "6 years       6328\n",
       "7 years       5891\n",
       "8 years       5753\n",
       "9 years       4988\n",
       "Name: count, dtype: int64"
      ]
     },
     "execution_count": 26,
     "metadata": {},
     "output_type": "execute_result"
    }
   ],
   "source": [
    "cat.antigüedad_empleo.value_counts(dropna=False)"
   ]
  },
  {
   "cell_type": "markdown",
   "id": "45ca2193",
   "metadata": {},
   "source": [
    "Conclusiones:\n",
    "\n",
    "* sustituir todas por valor 'desconocido'"
   ]
  },
  {
   "cell_type": "markdown",
   "id": "6802d575",
   "metadata": {},
   "source": [
    "#### Corrección"
   ]
  },
  {
   "cell_type": "markdown",
   "id": "ebeb52a6",
   "metadata": {},
   "source": [
    "##### Imputar por un valor"
   ]
  },
  {
   "cell_type": "markdown",
   "id": "2cba1c3c",
   "metadata": {},
   "source": [
    "###### Variables a imputar"
   ]
  },
  {
   "cell_type": "code",
   "execution_count": 27,
   "id": "4050ef9f",
   "metadata": {},
   "outputs": [],
   "source": [
    "var_imputar_desconocido = ['descripcion','empleo','antigüedad_empleo']"
   ]
  },
  {
   "cell_type": "markdown",
   "id": "78d10252",
   "metadata": {},
   "source": [
    "###### Imputar"
   ]
  },
  {
   "cell_type": "code",
   "execution_count": 28,
   "id": "f16e8491",
   "metadata": {},
   "outputs": [],
   "source": [
    "cat[var_imputar_desconocido] = cat[var_imputar_desconocido].fillna('desconocido')"
   ]
  },
  {
   "cell_type": "markdown",
   "id": "db3a72a6",
   "metadata": {},
   "source": [
    "## GESTIÓN DE NUMÉRICAS"
   ]
  },
  {
   "cell_type": "markdown",
   "id": "d65bd06a",
   "metadata": {},
   "source": [
    "### Nulos"
   ]
  },
  {
   "cell_type": "markdown",
   "id": "e5ee8416",
   "metadata": {},
   "source": [
    "#### Identificación"
   ]
  },
  {
   "cell_type": "code",
   "execution_count": 29,
   "id": "c9f054a3",
   "metadata": {
    "scrolled": true
   },
   "outputs": [
    {
     "data": {
      "text/plain": [
       "num_meses_desde_ult_retraso    71834\n",
       "porc_tarjetas_75p               4664\n",
       "num_hipotecas                   3073\n",
       "dti                              108\n",
       "porc_uso_revolving               107\n",
       "num_cancelaciones_12meses         11\n",
       "num_lineas_credito                 3\n",
       "num_derogatorios                   3\n",
       "ingresos                           0\n",
       "principal                          0\n",
       "tipo_interes                       0\n",
       "imp_cuota                          0\n",
       "imp_amortizado                     0\n",
       "imp_recuperado                     0\n",
       "dtype: int64"
      ]
     },
     "execution_count": 29,
     "metadata": {},
     "output_type": "execute_result"
    }
   ],
   "source": [
    "num.isna().sum().sort_values(ascending = False)"
   ]
  },
  {
   "cell_type": "markdown",
   "id": "a043a2e8",
   "metadata": {},
   "source": [
    "Veamoslas con más detalle."
   ]
  },
  {
   "cell_type": "code",
   "execution_count": 30,
   "id": "aa5112af",
   "metadata": {},
   "outputs": [
    {
     "data": {
      "image/png": "[encoded data removed]",
      "text/plain": [
       "<Figure size 1200x600 with 1 Axes>"
      ]
     },
     "metadata": {},
     "output_type": "display_data"
    }
   ],
   "source": [
    "num.num_meses_desde_ult_retraso.value_counts().sort_index().plot.bar(figsize = (12,6));"
   ]
  },
  {
   "cell_type": "markdown",
   "id": "7e2ff55b",
   "metadata": {},
   "source": [
    "Hay ceros, pero parecen pocos para una variable que implica retrasos.\n",
    "\n",
    "Así que vamos a pensar que los nulos significan que no ha habido retrasos.\n",
    "\n",
    "Y por tanto imputar por ceros."
   ]
  },
  {
   "cell_type": "code",
   "execution_count": 31,
   "id": "2873ee93",
   "metadata": {},
   "outputs": [
    {
     "data": {
      "image/png": "[encoded data removed]",
      "text/plain": [
       "<Figure size 1200x600 with 1 Axes>"
      ]
     },
     "metadata": {},
     "output_type": "display_data"
    }
   ],
   "source": [
    "num.porc_tarjetas_75p.value_counts().sort_index().plot.bar(figsize = (12,6));"
   ]
  },
  {
   "cell_type": "markdown",
   "id": "1bff94a6",
   "metadata": {},
   "source": [
    "La categoría mayoritaria es cero.\n",
    "\n",
    "Imputaremos por cero."
   ]
  },
  {
   "cell_type": "code",
   "execution_count": 32,
   "id": "e0bb1a4a",
   "metadata": {},
   "outputs": [
    {
     "data": {
      "image/png": "[encoded data removed]",
      "text/plain": [
       "<Figure size 1200x600 with 1 Axes>"
      ]
     },
     "metadata": {},
     "output_type": "display_data"
    }
   ],
   "source": [
    "num.num_hipotecas.value_counts().sort_index().plot.bar(figsize = (12,6));"
   ]
  },
  {
   "cell_type": "markdown",
   "id": "d0269d6c",
   "metadata": {},
   "source": [
    "La categoría mayoritaria es cero.\n",
    "\n",
    "Imputaremos por cero."
   ]
  },
  {
   "cell_type": "markdown",
   "id": "750b3940",
   "metadata": {},
   "source": [
    "Conclusiones:\n",
    "\n",
    "* imputar todas por ceros"
   ]
  },
  {
   "cell_type": "markdown",
   "id": "562eea7f",
   "metadata": {},
   "source": [
    "#### Corrección"
   ]
  },
  {
   "cell_type": "code",
   "execution_count": 33,
   "id": "37d7e0d9",
   "metadata": {},
   "outputs": [],
   "source": [
    "num.fillna(0,inplace=True)"
   ]
  },
  {
   "cell_type": "markdown",
   "id": "82cb56e8",
   "metadata": {},
   "source": [
    "### Atípicos"
   ]
  },
  {
   "cell_type": "markdown",
   "id": "760baf8c",
   "metadata": {},
   "source": [
    "#### Por desviación típica"
   ]
  },
  {
   "cell_type": "markdown",
   "id": "4b508149",
   "metadata": {},
   "source": [
    "##### Identificación"
   ]
  },
  {
   "cell_type": "markdown",
   "id": "8ceda3d3",
   "metadata": {},
   "source": [
    "###### Definir el número de desviaciones típicas"
   ]
  },
  {
   "cell_type": "code",
   "execution_count": 34,
   "id": "2b7419cb",
   "metadata": {},
   "outputs": [],
   "source": [
    "num_desv_tip = 4"
   ]
  },
  {
   "cell_type": "markdown",
   "id": "942da237",
   "metadata": {},
   "source": [
    "###### Función que devuelve los índices de los atípicos"
   ]
  },
  {
   "cell_type": "code",
   "execution_count": 35,
   "id": "8a81f494",
   "metadata": {},
   "outputs": [],
   "source": [
    "def atipicos_desv_tip(variable, num_desv_tip = 4):\n",
    "    #sacamos los nulos por ahora\n",
    "    variable = variable.dropna()\n",
    "    #calculamos los límites\n",
    "    media = np.mean(variable)\n",
    "    sd = np.std(variable)\n",
    "    umbral = sd * num_desv_tip\n",
    "    lim_inf = media - umbral\n",
    "    lim_sup = media + umbral\n",
    "    #encontramos los índices de los que están fuera de los límites\n",
    "    indices = [indice for indice,valor in variable.items() if valor < lim_inf or valor > lim_sup]\n",
    "    return(indices)"
   ]
  },
  {
   "cell_type": "markdown",
   "id": "768e7398",
   "metadata": {},
   "source": [
    "###### Función que cuenta el número de atípicos"
   ]
  },
  {
   "cell_type": "code",
   "execution_count": 36,
   "id": "5c8f4462",
   "metadata": {},
   "outputs": [],
   "source": [
    "def conteo_atipicos(df,variable, num_desv_tip = 4):\n",
    "    atipicos = atipicos_desv_tip(df[variable], num_desv_tip)\n",
    "    return(df.loc[atipicos,variable].value_counts().sort_index())"
   ]
  },
  {
   "cell_type": "markdown",
   "id": "5cd1e425",
   "metadata": {},
   "source": [
    "###### Variables a aplicar"
   ]
  },
  {
   "cell_type": "code",
   "execution_count": 37,
   "id": "cfbb3d88",
   "metadata": {},
   "outputs": [],
   "source": [
    "var_atipicos_dt = ['ingresos','principal','imp_cuota','imp_recuperado']"
   ]
  },
  {
   "cell_type": "markdown",
   "id": "ac400ced",
   "metadata": {},
   "source": [
    "###### Aplicar"
   ]
  },
  {
   "cell_type": "code",
   "execution_count": 38,
   "id": "c4b74e98",
   "metadata": {},
   "outputs": [
    {
     "name": "stdout",
     "output_type": "stream",
     "text": [
      "\n",
      "ingresos:\n",
      "\n",
      "ingresos\n",
      "445,000.00        1\n",
      "447,000.00        1\n",
      "450,000.00       38\n",
      "453,000.00        1\n",
      "454,189.00        1\n",
      "                 ..\n",
      "8,500,000.00      1\n",
      "8,500,021.00      1\n",
      "9,550,000.00      1\n",
      "9,573,072.00      1\n",
      "10,999,200.00     1\n",
      "Name: count, Length: 130, dtype: int64\n",
      "\n",
      "principal:\n",
      "\n",
      "Series([], Name: count, dtype: int64)\n",
      "\n",
      "imp_cuota:\n",
      "\n",
      "imp_cuota\n",
      "1,566.80    2\n",
      "1,587.02    1\n",
      "1,714.54    1\n",
      "Name: count, dtype: int64\n",
      "\n",
      "imp_recuperado:\n",
      "\n",
      "imp_recuperado\n",
      "3,207.44     1\n",
      "3,207.86     1\n",
      "3,208.00     1\n",
      "3,208.50     1\n",
      "3,209.03     1\n",
      "            ..\n",
      "24,383.06    1\n",
      "26,172.99    1\n",
      "27,478.64    1\n",
      "27,657.68    1\n",
      "33,666.34    1\n",
      "Name: count, Length: 1545, dtype: int64\n"
     ]
    }
   ],
   "source": [
    "for variable in var_atipicos_dt:\n",
    "    print('\\n' + variable + ':\\n')\n",
    "    print(conteo_atipicos(num,variable,num_desv_tip))"
   ]
  },
  {
   "cell_type": "markdown",
   "id": "5beaeba9",
   "metadata": {},
   "source": [
    "Revisamos con más detalle la variable ingresos."
   ]
  },
  {
   "cell_type": "code",
   "execution_count": 39,
   "id": "0b1c7eb8",
   "metadata": {},
   "outputs": [
    {
     "data": {
      "text/plain": [
       "count      140,000.00\n",
       "mean        78,422.85\n",
       "std         91,641.06\n",
       "min              0.00\n",
       "25%         46,000.00\n",
       "50%         65,000.00\n",
       "75%         93,740.25\n",
       "max     10,999,200.00\n",
       "Name: ingresos, dtype: float64"
      ]
     },
     "execution_count": 39,
     "metadata": {},
     "output_type": "execute_result"
    }
   ],
   "source": [
    "num.ingresos.describe()"
   ]
  },
  {
   "cell_type": "markdown",
   "id": "5197aae9",
   "metadata": {},
   "source": [
    "##### Corrección"
   ]
  },
  {
   "cell_type": "markdown",
   "id": "2b9255dd",
   "metadata": {},
   "source": [
    "Eliminar los registros con ingresos superiores a 300.000$"
   ]
  },
  {
   "cell_type": "markdown",
   "id": "e1233b46",
   "metadata": {},
   "source": [
    "*Cuidado: Si se eliminan registros hay que eliminarlos tanto de cat como de num*"
   ]
  },
  {
   "cell_type": "markdown",
   "id": "18548d6d",
   "metadata": {},
   "source": [
    "###### Id de registros a eliminar"
   ]
  },
  {
   "cell_type": "code",
   "execution_count": 40,
   "id": "7d1c1e81",
   "metadata": {
    "scrolled": true
   },
   "outputs": [
    {
     "data": {
      "text/plain": [
       "array([ 97629676,  30115373,  88149047,  96702950,  83678168, 128295694,\n",
       "        57316403,  75468055, 104953803,  55380417,  60525500,  59101444,\n",
       "        74703269, 101561119, 114093587, 121891976,    458760, 145133997,\n",
       "        99967449,  74845067, 113905376,  91162705,  69127903, 134144676,\n",
       "        79015002,  33371205,  88195703, 136270374, 114793732, 115048244,\n",
       "         9746316,  89794872, 128843574,  75358546,  65038134,  70592833,\n",
       "       142502569, 104959821, 107733336,  77517938,  93092543,  91131807,\n",
       "          489907, 122689487,  57074442, 133401013,  60831304,  40942257,\n",
       "       116881558, 115085050,   3630153,  78419419,  79390430, 141591423,\n",
       "        67427919,  92659557, 138925364, 102523636, 125219862,  88921166,\n",
       "       109743090,    225812, 131383380, 109322909, 141468030,  92035926,\n",
       "        53252537, 144125851,  12938159, 107355068, 125518577, 120217704,\n",
       "       104110402,  65795964,  59242936, 125737574, 132251779, 134479546,\n",
       "       134323203, 104319520, 145242693,   2367546,  96979795, 120150582,\n",
       "        74585468, 143147174, 105895840, 124877413, 122347658, 140598256,\n",
       "       103337282,   1533286,  54248761, 145550896, 108846002, 102574792,\n",
       "        57206063, 122681489, 135802748, 120205589, 114427471,  46808563,\n",
       "       120605739,   1689366, 109005497, 141424441,  88096112, 130398061,\n",
       "        92104768,  51898166, 130368292, 119787910,  56934450,  35286237,\n",
       "       135369591, 119238056,  41130637, 143570470,   6708897,  50515982,\n",
       "        91946592, 142066146,  98197574,  75768580, 139257255, 120091603,\n",
       "        77685207, 101402707,  44796469, 134144026,  93820307, 142447421,\n",
       "        98845836, 122341298,  60893886, 144884757,  94479580, 127844526,\n",
       "       134124984, 142275020,  77815438, 121858382,  12596976,  50053165,\n",
       "       117716248,   5648222, 134742400,  44389210,   9775633, 134387430,\n",
       "       102586814,   2084601,   4305549,  66572368,  73302640, 100081315,\n",
       "       131712369,   4285539,  43205964, 135655382,   1010101,  19096231,\n",
       "        74664210,  67998530,  76371883, 134123942, 131284811,  14500926,\n",
       "        63525013,  91029006, 115397680, 122845355,  49874780,  73724009,\n",
       "        68553398,  84515781,  90114483, 130334199,  65736947,  75291684,\n",
       "        40492358,  77871568, 114143227, 141129471,  46397393,    482198,\n",
       "       137369982,  87154949, 130818455, 144817761, 124837135,  46586567,\n",
       "        65682244, 144991963,  90427593, 103467994, 144712082,  75209638,\n",
       "        98777269, 139531061, 120038180,  58673076,  41950206, 141423357,\n",
       "        23825570, 141611571, 102476130,  67918262, 135559263, 111054792,\n",
       "       137489035, 137658495,  58722741, 137148507, 133941950,  88792922,\n",
       "        39897292, 116923559,  74516255,  96202237,  12776568,  70650998,\n",
       "       145357122,  51396630,  22373282,    561266, 124795220, 114175196,\n",
       "       127391586,  78709637, 122227510, 130331377,  56864853, 107365904,\n",
       "       143367322, 132003543,  35003601, 144794804,  80628288, 109043561,\n",
       "       126492093, 111896883, 137039711,   9816896,  52668765, 124764970,\n",
       "       128536277,  35703428, 116820871,  68394198, 133378805,  96411541,\n",
       "       109915862,   8988273,  55959447,  74765332, 132203115,  42373852,\n",
       "       131314415,  65781940, 139667548, 124793864, 129516435,  32218207,\n",
       "        28553097,  75203080,  83388134, 136970362,   6765363,  90275160,\n",
       "        94057751, 112779927,  16321577, 114175060, 129923979,  58270253,\n",
       "        37841834, 119301803,  74682106,  50565203,  95311620,  38645209,\n",
       "       132435925, 143215611,  73558953, 122359952,  57824714, 131524691,\n",
       "         3485093, 143031787,  45364141,  95037050,  79141935,  77021408,\n",
       "       133490161, 126118103,  52048938,  93267384,  93110198,  97912497,\n",
       "       132766601,  75224867,  37217305,  79152000, 100075773,  58502629,\n",
       "       103427531,  91687865, 127103613, 138871938, 141297636,  33191872,\n",
       "       144497304, 104461407,  70962795,  72705326,  66401051,  90985447,\n",
       "        81467097, 119401404,   4094838,  90135284,  61509813,  76293515,\n",
       "        90160890,  25317030,  85018036, 140000033,  64360491,  35146345,\n",
       "        28112154,  74975681,  97323656,  86001719,  21501092, 131620377,\n",
       "       117863523, 143115552,  43391740,  99974574, 142965286,  13607494,\n",
       "       126564865, 126102538,  94058423, 127100028,   4694842,  66434325,\n",
       "        62529469,  25346564, 134070039, 118208082, 137542106,  55179784,\n",
       "        50467050, 111896701, 126475552,  18645650, 142688664,  73540781,\n",
       "         4564864, 121326036, 139425758, 121326208, 112877623, 126606988,\n",
       "        97304366, 131391959,  34352623,  46436300, 139391691,  63385786,\n",
       "       103147580, 106493649, 134218440, 139347011,  54848657,  98093258,\n",
       "        38524975,  46447363,  90098332, 121345628, 115351209, 124139349,\n",
       "       105577516, 136479269,  44127068,  10149577,  64097639, 131169155,\n",
       "       145102584, 110353166,  85370158,  75094809,  72585852,  74816105,\n",
       "        11975868,  14118015,  93911517, 124774802, 124066664,  64391289,\n",
       "        89858761, 114219428,  43145218,  28212093, 142637793, 129513556,\n",
       "       135049135,  65864699,   1682847, 132527098, 109650231, 140523543,\n",
       "       125915713,  69081477,   4279342,  63919025, 121758201,  18564727,\n",
       "       118198788, 125338224,  94851269, 139660109, 145074086, 136484144,\n",
       "       138773650,  73479902, 133212209, 139292469,  29743947,  94436457,\n",
       "        77815724,  84101665, 121907050,   8968659, 134998359, 132242662,\n",
       "       138248494,  59023219, 105689911, 125111536,  14548057,  96696319,\n",
       "        50627726, 126279677,  70836049,  14638033,  60307143, 131466556,\n",
       "       119962807, 120601747,  60740065,  84556787,  46407893, 109331416,\n",
       "        50920454, 139625355,   6739165,  17745104,  70091528, 141407002,\n",
       "        78339835,  12657058,  81405134, 128212905, 123070288,  94336985,\n",
       "        47350458,  84455619,  44845802,  32488882,  84476341,  56101281,\n",
       "       137322291, 115718123,   5620186,  98441217,   3701879,  10775105,\n",
       "        70944742,  98207319, 144110938,  83889556,  70811286,  74514857,\n",
       "       111730660,  92350954,  88887467, 120186820,  70782235,  74574091,\n",
       "        65434500, 141030059, 142998904,  31988940,  74604136, 134263675,\n",
       "         4915180,  61502799,  97537454,  93135754,  79044039, 130085183,\n",
       "       128105949,  68262643, 140497949, 125693256,  56079482,  84664341,\n",
       "       107058263,  55928591,   1437658, 124457391,  85641729, 130820205,\n",
       "        17332882,  99320418, 127906059,   5782704,  91453270, 117807046,\n",
       "        97344567, 110662311, 129766898, 125034601, 108514084,  26989794,\n",
       "       141804011,  74101233, 141886677,  96628935,  72683773,  77298827,\n",
       "        52709212,  75182422,  95330554,  94293008,  38655125,  45794303,\n",
       "       144138560,   4095255,  61331292,  66502360,  61369832,  69742452,\n",
       "       127090975,  83313940, 137212507,  96214908, 104664297,  55455330,\n",
       "        93708555,  88989629,  99707616,  96342937, 136491216, 121337630,\n",
       "        40999819, 139104218,  53795273, 133131739, 125855577,  73231267,\n",
       "        29164336,  23173158,  10754853,  85291159, 126203380,   4526730,\n",
       "       144118144,  75941752, 142877040,  12706051,  65725904, 106936032,\n",
       "       127103693,  56482837,  51376251,  60285319,  19607586,  46612958,\n",
       "         2645279,  39580700, 125281686,    785827,  17793409,  93994154,\n",
       "        86246563, 132623042, 131547163,  84044804, 143917509, 144959732,\n",
       "        70291935,  43470183,   9047763, 143665680, 112159695,  96421352,\n",
       "        47018331, 121366722, 106806597, 119993069, 112029060, 133797798,\n",
       "          987778, 125704018, 128112710,  68895741, 134316802, 132401669,\n",
       "        12295155, 120384326, 131405802, 125044099,  75808253,   9914858,\n",
       "       112159196, 143081204,  50580811, 139003798,  68414600, 110343004,\n",
       "       141510571, 119279947,   1826732, 118328197, 121259121, 101961161,\n",
       "       137443466,    736949,  77306764,  27721310, 109727336,  96825667,\n",
       "       111409777, 115701929, 105637642, 140138838, 108107905, 127319246,\n",
       "       143625865, 126113926, 119261152,  97268541,  66463794,  44995922,\n",
       "       141216561, 123994978,  52506425, 140538544, 139667670,   9694744,\n",
       "        77506868, 138765321,    519954, 119398720, 142896440, 127489117,\n",
       "        67358976, 114218348,  94109307,  70773671, 110321902, 130946575,\n",
       "         1282553,  84625764,  59391462, 109780689,  95149159,  49973369,\n",
       "        88880516, 128639846,  11726293,  43235780,  83757649,  76301674,\n",
       "       142504686,  69646648, 127583119, 118224064,  41120916, 138931692,\n",
       "       144974515,  16912784,  22151602,  70552657, 143363014, 111558517,\n",
       "       143189082,  12499335, 109741122,  70571444,  95203319, 126286137,\n",
       "        73312777, 142014029,    792270, 135374430, 128746206, 127274866,\n",
       "        98044750, 139505618, 106347831,  69522356, 136911748, 125051305,\n",
       "       109882084,  91230203, 141836957, 130928715,  60890496, 132458431,\n",
       "       142853610, 100005147, 113822365, 136899808,  66440322, 142998906,\n",
       "          405012, 141752541,  54107140, 132932888,  94191553, 130195255,\n",
       "        75878818,   1446979, 132084541, 129127730,  78800043, 130756073,\n",
       "        73724793, 110261189, 140250578,  76558623,  69762726,  16231199,\n",
       "        95312173, 136149839,  66420385, 126419934, 103408104, 143892648,\n",
       "       128121049,  51126322,  98795657, 107357067,  46782740,  23965663,\n",
       "        62337205, 113537734, 145090075,  30125030,  63328940,   4566526,\n",
       "       102216584,  79370500, 107459447, 126757972,  71472622,   3700899,\n",
       "        70886304,  37021348, 129635030,  34502262, 138585728,  37730723,\n",
       "       137884077,  76052973, 117489130, 126162273, 142474254, 122312648,\n",
       "       134330443,  96261571,  65975274,  52057332, 142092780, 141280501,\n",
       "       142892764,  90215075, 120623258,  69085139,  57044192,  65128137,\n",
       "       125939307, 134022206,  59462084, 122285995, 134932519,  96779498,\n",
       "        57286589, 102435586, 130079181,  85371987, 117841293, 105773455,\n",
       "       134984803,  17745825,  75324463,  99927033,  65364744,  93429953,\n",
       "       111066384, 133212045,  95222618, 141068415, 107058120, 129523478,\n",
       "        76411138,  94291807,  88133019, 125177151, 142890805, 123604983,\n",
       "       117218856, 134296571, 145417443,  63527270, 133076559,  74532268,\n",
       "       138282206, 107853258,  26200126, 138054070, 140832746, 115248214,\n",
       "        72712649,  39571843, 121789304, 130164560,  95816450, 107336706,\n",
       "       131252297,  54423766,  55981721, 121320830, 143887377, 123903601,\n",
       "        44106486,  61311868, 127213522, 136607131,  60904733,  71755374,\n",
       "        58682603,  70511606,  85732516, 127331446, 134863470, 128130585,\n",
       "       113180574, 102463427, 125728448, 112838177,  92460017, 112046210,\n",
       "        88704137,   4298738,  39480666, 123063931, 126624031,  43935902,\n",
       "        21591313,  63286685,  14678810, 100155779,  46376412,  92951346,\n",
       "       112751925,  76323387,   4307450, 125472952,  29733971, 124998744,\n",
       "       104541361, 111083362, 121396944, 122659802,  95218480,  55937578,\n",
       "       130705370, 140832910, 144662603,   1226738, 134363013,  34934353,\n",
       "       138260156, 133942061,  87314489, 119882670,   4287915, 137384955,\n",
       "        84615347,  75289208,   3287408,  88043946,  14520987, 142507153,\n",
       "        32358988, 120092069, 127021576, 121245177, 141285265,  39827879,\n",
       "       111956836,  77366625, 114514072,  38559964,  65028939,  40117778,\n",
       "        91593619, 124953572,  81572192, 120652956, 143853153,  89543172,\n",
       "       136418634], dtype=int64)"
      ]
     },
     "execution_count": 40,
     "metadata": {},
     "output_type": "execute_result"
    }
   ],
   "source": [
    "a_eliminar = num.loc[num.ingresos > 300000].index.values\n",
    "a_eliminar"
   ]
  },
  {
   "cell_type": "markdown",
   "id": "b995bf77",
   "metadata": {},
   "source": [
    "###### Aplicar"
   ]
  },
  {
   "cell_type": "code",
   "execution_count": 41,
   "id": "413fa5ea",
   "metadata": {},
   "outputs": [],
   "source": [
    "cat = cat[~cat.index.isin(a_eliminar)]\n",
    "num = num[~num.index.isin(a_eliminar)]"
   ]
  },
  {
   "cell_type": "markdown",
   "id": "0f6b1e4a",
   "metadata": {},
   "source": [
    "## GUARDAR DATASETS TRAS CALIDAD DE DATOS"
   ]
  },
  {
   "cell_type": "markdown",
   "id": "1e211b09",
   "metadata": {},
   "source": [
    "Guarda los avances en df, cat y num con un sufijo para poder guardar o recuperar avances del proyecto.\n",
    "\n",
    "En formato pickle para no perder las modificaciones de metadatos."
   ]
  },
  {
   "cell_type": "markdown",
   "id": "abb12eef",
   "metadata": {},
   "source": [
    "### Definir los nombres de los archivos"
   ]
  },
  {
   "cell_type": "code",
   "execution_count": 42,
   "id": "f83c6f26",
   "metadata": {},
   "outputs": [],
   "source": [
    "ruta_trabajo = ruta_proyecto + '/02_Datos/03_Trabajo/' + 'trabajo_resultado_calidad.pickle'\n",
    "ruta_cat = ruta_proyecto + '/02_Datos/03_Trabajo/' + 'cat_resultado_calidad.pickle'\n",
    "ruta_num = ruta_proyecto + '/02_Datos/03_Trabajo/' + 'num_resultado_calidad.pickle'"
   ]
  },
  {
   "cell_type": "markdown",
   "id": "1699f284",
   "metadata": {},
   "source": [
    "### Guardar los archivos"
   ]
  },
  {
   "cell_type": "code",
   "execution_count": 43,
   "id": "6731887a",
   "metadata": {},
   "outputs": [],
   "source": [
    "df.to_pickle(ruta_trabajo)\n",
    "cat.to_pickle(ruta_cat)\n",
    "num.to_pickle(ruta_num)"
   ]
  }
 ],
 "metadata": {
  "kernelspec": {
   "display_name": "Python 3 (ipykernel)",
   "language": "python",
   "name": "python3"
  },
  "language_info": {
   "codemirror_mode": {
    "name": "ipython",
    "version": 3
   },
   "file_extension": ".py",
   "mimetype": "text/x-python",
   "name": "python",
   "nbconvert_exporter": "python",
   "pygments_lexer": "ipython3",
   "version": "3.12.3"
  },
  "toc": {
   "base_numbering": 1,
   "nav_menu": {},
   "number_sections": true,
   "sideBar": true,
   "skip_h1_title": false,
   "title_cell": "Table of Contents",
   "title_sidebar": "Contents",
   "toc_cell": false,
   "toc_position": {
    "height": "calc(100% - 180px)",
    "left": "10px",
    "top": "150px",
    "width": "298.833px"
   },
   "toc_section_display": true,
   "toc_window_display": true
  },
  "varInspector": {
   "cols": {
    "lenName": 16,
    "lenType": 16,
    "lenVar": 40
   },
   "kernels_config": {
    "python": {
     "delete_cmd_postfix": "",
     "delete_cmd_prefix": "del ",
     "library": "var_list.py",
     "varRefreshCmd": "print(var_dic_list())"
    },
    "r": {
     "delete_cmd_postfix": ") ",
     "delete_cmd_prefix": "rm(",
     "library": "var_list.r",
     "varRefreshCmd": "cat(var_dic_list()) "
    }
   },
   "position": {
    "height": "546.85px",
    "left": "680.75px",
    "right": "20px",
    "top": "118px",
    "width": "350px"
   },
   "types_to_exclude": [
    "module",
    "function",
    "builtin_function_or_method",
    "instance",
    "_Feature"
   ],
   "window_display": false
  }
 },
 "nbformat": 4,
 "nbformat_minor": 5
}
