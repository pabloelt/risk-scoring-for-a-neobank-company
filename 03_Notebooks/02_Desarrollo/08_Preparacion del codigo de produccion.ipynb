{
 "cells": [
  {
   "cell_type": "markdown",
   "id": "595eed55-5189-4e57-9e1a-c9423928c156",
   "metadata": {},
   "source": [
    "# PREPARACIÓN DEL CÓDIGO DE PRODUCCIÓN"
   ]
  },
  {
   "cell_type": "markdown",
   "id": "797ae63f",
   "metadata": {},
   "source": [
    "## IMPORTAR LAS LIBRERIAS"
   ]
  },
  {
   "cell_type": "markdown",
   "id": "64445de1",
   "metadata": {},
   "source": [
    "Actualizar a las que se usen finalmente en tu proyecto."
   ]
  },
  {
   "cell_type": "code",
   "execution_count": 109,
   "id": "ffe7be80",
   "metadata": {
    "ExecuteTime": {
     "end_time": "2024-04-23T11:29:34.703462Z",
     "start_time": "2024-04-23T11:29:34.689114Z"
    }
   },
   "outputs": [],
   "source": [
    "import numpy as np\n",
    "import pandas as pd\n",
    "import pickle\n",
    "import matplotlib.pyplot as plt\n",
    "import seaborn as sns\n",
    "sns.set_style('darkgrid')\n",
    "\n",
    "#Automcompletar rápido\n",
    "%config IPCompleter.greedy=True\n",
    "import warnings\n",
    "warnings.filterwarnings('ignore')\n",
    "\n",
    "from sklearn.preprocessing import OrdinalEncoder\n",
    "from sklearn.preprocessing import OneHotEncoder\n",
    "from sklearn.preprocessing import Binarizer\n",
    "from sklearn.preprocessing import MinMaxScaler\n",
    "\n",
    "from sklearn.linear_model import LogisticRegression\n",
    "from sklearn.ensemble import HistGradientBoostingRegressor\n",
    "\n",
    "from sklearn.pipeline import Pipeline\n",
    "from sklearn.preprocessing import FunctionTransformer\n",
    "from sklearn.compose import make_column_transformer\n",
    "from sklearn.pipeline import make_pipeline"
   ]
  },
  {
   "cell_type": "markdown",
   "id": "5e12241c",
   "metadata": {},
   "source": [
    "## CARGAR LOS DATOS"
   ]
  },
  {
   "cell_type": "markdown",
   "id": "807b37d3",
   "metadata": {},
   "source": [
    "### Ruta del proyecto"
   ]
  },
  {
   "cell_type": "code",
   "execution_count": 2,
   "id": "5a6711f7",
   "metadata": {
    "ExecuteTime": {
     "end_time": "2024-04-23T11:29:36.476226Z",
     "start_time": "2024-04-23T11:29:36.468424Z"
    }
   },
   "outputs": [],
   "source": [
    "ruta_proyecto = 'C:/Users/pelop/OneDrive/Desktop/Curso Data Science Pedro/2 CURSO DATA SCIENCE/03_MACHINE_LEARNING/07_CASOS/03_RIESGOS'"
   ]
  },
  {
   "cell_type": "markdown",
   "id": "89fe9a43",
   "metadata": {},
   "source": [
    "### Nombre del fichero de datos"
   ]
  },
  {
   "cell_type": "code",
   "execution_count": 3,
   "id": "25b345d7",
   "metadata": {
    "ExecuteTime": {
     "end_time": "2024-04-23T11:29:39.476293Z",
     "start_time": "2024-04-23T11:29:39.470564Z"
    }
   },
   "outputs": [],
   "source": [
    "nombre_fichero_datos = 'prestamos.csv'"
   ]
  },
  {
   "cell_type": "markdown",
   "id": "765f82e1",
   "metadata": {},
   "source": [
    "### Cargar los datos"
   ]
  },
  {
   "cell_type": "code",
   "execution_count": 4,
   "id": "480494ff",
   "metadata": {
    "ExecuteTime": {
     "end_time": "2024-04-23T11:29:43.088735Z",
     "start_time": "2024-04-23T11:29:41.976755Z"
    }
   },
   "outputs": [],
   "source": [
    "ruta_completa = ruta_proyecto + '/02_Datos/01_Originales/' + nombre_fichero_datos\n",
    "\n",
    "df = pd.read_csv(ruta_completa,index_col=0)"
   ]
  },
  {
   "cell_type": "markdown",
   "id": "454738c9",
   "metadata": {},
   "source": [
    "### Seleccionar solo las variables finales"
   ]
  },
  {
   "cell_type": "markdown",
   "id": "9c127d9a",
   "metadata": {},
   "source": [
    "#### Apuntar (manualmente) la lista de variables finales sin extensiones"
   ]
  },
  {
   "cell_type": "code",
   "execution_count": 5,
   "id": "da477021",
   "metadata": {
    "ExecuteTime": {
     "end_time": "2024-04-23T11:29:45.424381Z",
     "start_time": "2024-04-23T11:29:45.418518Z"
    }
   },
   "outputs": [],
   "source": [
    "variables_finales = ['ingresos_verificados',\n",
    "                     'vivienda',\n",
    "                     'finalidad',\n",
    "                     'num_cuotas',\n",
    "                     'antigüedad_empleo',\n",
    "                     'rating',\n",
    "                     'ingresos',\n",
    "                     'dti',\n",
    "                     'num_lineas_credito',\n",
    "                     'porc_uso_revolving',\n",
    "                     'principal',\n",
    "                     'tipo_interes',\n",
    "                     'imp_cuota',\n",
    "                     'num_derogatorios',\n",
    "                     'estado',\n",
    "                     'imp_amortizado',\n",
    "                     'imp_recuperado'\n",
    "                  ]"
   ]
  },
  {
   "cell_type": "markdown",
   "id": "f81f09bf",
   "metadata": {},
   "source": [
    "#### Crear la matriz de variables procesos (excel)"
   ]
  },
  {
   "cell_type": "markdown",
   "id": "735beb13",
   "metadata": {},
   "source": [
    "Ir a la plantilla de Excel \"Fase Producción Plantilla Procesos\" y crear la matriz de variables por procesos."
   ]
  },
  {
   "cell_type": "markdown",
   "id": "ee3f31a6",
   "metadata": {},
   "source": [
    "#### Actualizar las importaciones"
   ]
  },
  {
   "cell_type": "markdown",
   "id": "80c12eea",
   "metadata": {},
   "source": [
    "Ir arriba a la celda de importacion de paquetes y actualizarlos con los que finalmente vamos a usar."
   ]
  },
  {
   "cell_type": "markdown",
   "id": "fe5a706b",
   "metadata": {},
   "source": [
    "## ESTRUCTURA DE LOS DATASETS"
   ]
  },
  {
   "cell_type": "markdown",
   "id": "a9cd9497",
   "metadata": {},
   "source": [
    "### Eliminar registros"
   ]
  },
  {
   "cell_type": "markdown",
   "id": "4af7dbab",
   "metadata": {},
   "source": [
    "#### Por atípicos"
   ]
  },
  {
   "cell_type": "code",
   "execution_count": 6,
   "id": "361fd5f0",
   "metadata": {
    "ExecuteTime": {
     "end_time": "2024-04-23T11:29:55.967938Z",
     "start_time": "2024-04-23T11:29:55.956537Z"
    }
   },
   "outputs": [],
   "source": [
    "a_eliminar = df.loc[df.ingresos > 300000].index.values"
   ]
  },
  {
   "cell_type": "code",
   "execution_count": 7,
   "id": "88b5ccb4",
   "metadata": {
    "ExecuteTime": {
     "end_time": "2024-04-23T11:29:56.790915Z",
     "start_time": "2024-04-23T11:29:56.723188Z"
    }
   },
   "outputs": [],
   "source": [
    "df = df[~df.index.isin(a_eliminar)]"
   ]
  },
  {
   "cell_type": "markdown",
   "id": "1852c8f6",
   "metadata": {},
   "source": [
    "### Seleccionar variables"
   ]
  },
  {
   "cell_type": "markdown",
   "id": "024faf5e",
   "metadata": {},
   "source": [
    "Quedarse solo con las de la lista."
   ]
  },
  {
   "cell_type": "code",
   "execution_count": 8,
   "id": "eb115fbf",
   "metadata": {
    "ExecuteTime": {
     "end_time": "2024-04-23T11:29:59.569530Z",
     "start_time": "2024-04-23T11:29:59.526555Z"
    }
   },
   "outputs": [],
   "source": [
    "df = df[variables_finales]"
   ]
  },
  {
   "cell_type": "markdown",
   "id": "99bb2255",
   "metadata": {},
   "source": [
    "## CREAR EL PIPELINE"
   ]
  },
  {
   "cell_type": "markdown",
   "id": "6d6e8fca",
   "metadata": {},
   "source": [
    "### Instanciar calidad de datos"
   ]
  },
  {
   "cell_type": "markdown",
   "id": "06178080",
   "metadata": {},
   "source": [
    "#### Crear la función"
   ]
  },
  {
   "cell_type": "code",
   "execution_count": 9,
   "id": "83c128e2",
   "metadata": {
    "ExecuteTime": {
     "end_time": "2024-04-23T11:30:02.119999Z",
     "start_time": "2024-04-23T11:30:02.114012Z"
    }
   },
   "outputs": [],
   "source": [
    "def calidad_datos(temp):\n",
    "    temp['antigüedad_empleo'] = temp['antigüedad_empleo'].fillna('desconocido')\n",
    "    temp['dti'].clip(0,100, inplace=True)\n",
    "    temp['porc_uso_revolving'].clip(0,100, inplace=True)\n",
    "    \n",
    "    for column in temp.select_dtypes('number').columns:\n",
    "        temp[column] = temp[column].fillna(0)\n",
    "    \n",
    "    return temp"
   ]
  },
  {
   "cell_type": "markdown",
   "id": "1126f00c",
   "metadata": {},
   "source": [
    "### Instanciar creación de variables"
   ]
  },
  {
   "cell_type": "markdown",
   "id": "282eb56e",
   "metadata": {},
   "source": [
    "Dado que la creación de variables es diferente para los 3 modelos necesitamos construir 3 funciones."
   ]
  },
  {
   "cell_type": "markdown",
   "id": "e30da63d",
   "metadata": {},
   "source": [
    "#### Crear las funciones"
   ]
  },
  {
   "cell_type": "code",
   "execution_count": 11,
   "id": "4b461455",
   "metadata": {
    "ExecuteTime": {
     "end_time": "2024-04-23T11:30:07.024821Z",
     "start_time": "2024-04-23T11:30:07.015391Z"
    }
   },
   "outputs": [],
   "source": [
    "def creacion_variables_pd(df):\n",
    "    \n",
    "    temp = df.copy()\n",
    "    \n",
    "    temp['target_pd'] = np.where(temp.estado.isin(['Charged Off','Does not meet the credit policy. Status:Charged Off','Default']), 1, 0)\n",
    "    \n",
    "    temp.vivienda = temp.vivienda.replace(['ANY','NONE','OTHER'],'MORTGAGE')\n",
    "    \n",
    "    temp.finalidad = temp.finalidad.replace(['wedding','educational','renewable_energy'],'other')\n",
    "    \n",
    "    #Eliminamos las variables que ya no usaremos\n",
    "    temp.drop(columns = ['estado','imp_amortizado','imp_recuperado'],inplace = True)\n",
    "    \n",
    "    #Separamos entre predictoras y target\n",
    "    temp_x = temp.iloc[:,:-1]\n",
    "    temp_y = temp.iloc[:,-1]\n",
    "    \n",
    "    return(temp_x,temp_y)"
   ]
  },
  {
   "cell_type": "code",
   "execution_count": 12,
   "id": "4f12fd5c",
   "metadata": {
    "ExecuteTime": {
     "end_time": "2024-04-23T11:30:08.482189Z",
     "start_time": "2024-04-23T11:30:08.473213Z"
    }
   },
   "outputs": [],
   "source": [
    "def creacion_variables_ead(df):\n",
    "    \n",
    "    temp = df.copy()\n",
    "    \n",
    "    temp['pendiente'] = temp.principal - temp.imp_amortizado\n",
    "    \n",
    "    temp['target_ead'] = temp.pendiente / temp.principal\n",
    "    \n",
    "    temp.vivienda = temp.vivienda.replace(['ANY','NONE','OTHER'],'MORTGAGE')\n",
    "    \n",
    "    temp.finalidad = temp.finalidad.replace(['wedding','educational','renewable_energy'],'other')\n",
    "    \n",
    "    #Eliminamos las variables que ya no usaremos\n",
    "    temp.drop(columns = ['estado','imp_amortizado','imp_recuperado','pendiente'],inplace = True)\n",
    "    \n",
    "    #Separamos entre predictoras y target\n",
    "    temp_x = temp.iloc[:,:-1]\n",
    "    temp_y = temp.iloc[:,-1]\n",
    "    \n",
    "    return(temp_x,temp_y)"
   ]
  },
  {
   "cell_type": "code",
   "execution_count": 13,
   "id": "ee89e853",
   "metadata": {
    "ExecuteTime": {
     "end_time": "2024-04-23T11:30:10.774768Z",
     "start_time": "2024-04-23T11:30:10.765533Z"
    }
   },
   "outputs": [],
   "source": [
    "def creacion_variables_lgd(df):\n",
    "    \n",
    "    temp = df.copy()\n",
    "    \n",
    "    temp['pendiente'] = temp.principal - temp.imp_amortizado\n",
    "    \n",
    "    temp['target_lgd'] = 1 - (temp.imp_recuperado / temp.pendiente)\n",
    "    \n",
    "    temp['target_lgd'].fillna(0,inplace=True)\n",
    "    \n",
    "    temp.vivienda = temp.vivienda.replace(['ANY','NONE','OTHER'],'MORTGAGE')\n",
    "    \n",
    "    temp.finalidad = temp.finalidad.replace(['wedding','educational','renewable_energy'],'other')\n",
    "    \n",
    "    #Eliminamos las variables que ya no usaremos\n",
    "    temp.drop(columns = ['estado','imp_amortizado','imp_recuperado','pendiente'],inplace = True)\n",
    "    \n",
    "    #Separamos entre predictoras y target\n",
    "    temp_x = temp.iloc[:,:-1]\n",
    "    temp_y = temp.iloc[:,-1]\n",
    "    \n",
    "    return(temp_x,temp_y)"
   ]
  },
  {
   "cell_type": "markdown",
   "id": "de72308d",
   "metadata": {},
   "source": [
    "#### Crear los dataframes de X e y"
   ]
  },
  {
   "cell_type": "code",
   "execution_count": 14,
   "id": "053dd03e",
   "metadata": {
    "ExecuteTime": {
     "end_time": "2024-04-23T11:30:13.007126Z",
     "start_time": "2024-04-23T11:30:12.065401Z"
    }
   },
   "outputs": [],
   "source": [
    "x_pd, y_pd = creacion_variables_pd(calidad_datos(df))\n",
    "\n",
    "x_ead, y_ead = creacion_variables_ead(calidad_datos(df))\n",
    "\n",
    "x_lgd, y_lgd = creacion_variables_lgd(calidad_datos(df))"
   ]
  },
  {
   "cell_type": "markdown",
   "id": "88e57147",
   "metadata": {},
   "source": [
    "### Instanciar transformación de variables"
   ]
  },
  {
   "cell_type": "code",
   "execution_count": 20,
   "id": "ee711664",
   "metadata": {
    "ExecuteTime": {
     "end_time": "2024-04-23T11:30:41.234414Z",
     "start_time": "2024-04-23T11:30:41.217076Z"
    }
   },
   "outputs": [],
   "source": [
    "#ONE HOT ENCODING\n",
    "var_ohe = [ 'ingresos_verificados', 'vivienda','finalidad','num_cuotas']\n",
    "ohe = OneHotEncoder(sparse_output = False, handle_unknown='ignore')\n",
    "\n",
    "\n",
    "#ORDINAL ENCODING\n",
    "var_oe = ['antigüedad_empleo','rating']\n",
    "\n",
    "orden_antigüedad_empleo = ['10+ years','9 years','8 years','7 years','6 years','5 years',\n",
    "                           '4 years','3 years','2 years','1 year','< 1 year','desconocido']\n",
    "\n",
    "orden_rating = ['A','B','C','D','E','F','G']\n",
    "\n",
    "oe = OrdinalEncoder(categories = [orden_antigüedad_empleo,orden_rating],\n",
    "                    handle_unknown = 'use_encoded_value',\n",
    "                    unknown_value = 12)\n",
    "\n",
    "#BINNING\n",
    "var_bin = ['num_derogatorios']\n",
    "bina = Binarizer(threshold=0)\n",
    "\n",
    "\n",
    "#MIN-MAX SCALING\n",
    "mms = MinMaxScaler()\n"
   ]
  },
  {
   "cell_type": "markdown",
   "id": "eaf3f141",
   "metadata": {},
   "source": [
    "### Crear el pipe del preprocesamiento"
   ]
  },
  {
   "cell_type": "markdown",
   "id": "8d7b7821",
   "metadata": {},
   "source": [
    "#### Crear el column transformer"
   ]
  },
  {
   "cell_type": "code",
   "execution_count": 21,
   "id": "e577b34d",
   "metadata": {
    "ExecuteTime": {
     "end_time": "2024-04-23T11:31:00.657661Z",
     "start_time": "2024-04-23T11:31:00.651707Z"
    }
   },
   "outputs": [],
   "source": [
    "ct = make_column_transformer(\n",
    "    (ohe, var_ohe),\n",
    "    (oe, var_oe),\n",
    "    (bina, var_bin),\n",
    "    remainder='passthrough')"
   ]
  },
  {
   "cell_type": "markdown",
   "id": "2430a349",
   "metadata": {},
   "source": [
    "#### Crear el pipeline de preprocesamiento"
   ]
  },
  {
   "cell_type": "code",
   "execution_count": 22,
   "id": "964484be",
   "metadata": {
    "ExecuteTime": {
     "end_time": "2024-04-23T11:33:36.250684Z",
     "start_time": "2024-04-23T11:33:36.245597Z"
    }
   },
   "outputs": [],
   "source": [
    "pipe_prepo = make_pipeline(ct, mms)"
   ]
  },
  {
   "cell_type": "markdown",
   "id": "d4b08601",
   "metadata": {},
   "source": [
    "### Instanciar los modelos"
   ]
  },
  {
   "cell_type": "markdown",
   "id": "b64c9e60",
   "metadata": {},
   "source": [
    "#### Instanciar los algoritmos"
   ]
  },
  {
   "cell_type": "code",
   "execution_count": 29,
   "id": "8b2e752d",
   "metadata": {
    "ExecuteTime": {
     "end_time": "2024-04-23T11:34:47.746101Z",
     "start_time": "2024-04-23T11:34:47.738471Z"
    }
   },
   "outputs": [],
   "source": [
    "modelo_pd = LogisticRegression(solver = 'saga', n_jobs=-1, C = 1, penalty = 'l1')\n",
    "\n",
    "modelo_ead = HistGradientBoostingRegressor(learning_rate = 0.1,\n",
    "                                          max_iter = 200,\n",
    "                                          max_depth = 10,\n",
    "                                          min_samples_leaf = 100,\n",
    "                                          scoring = 'neg_mean_absolute_percentage_error',\n",
    "                                          l2_regularization = 1)\n",
    "\n",
    "modelo_lgd = HistGradientBoostingRegressor(learning_rate = 0.1,\n",
    "                                          max_iter = 200,\n",
    "                                          max_depth = 20,\n",
    "                                          min_samples_leaf = 100,\n",
    "                                          scoring = 'neg_mean_absolute_percentage_error',\n",
    "                                          l2_regularization = 0.25)"
   ]
  },
  {
   "cell_type": "markdown",
   "id": "80f8e2f3",
   "metadata": {},
   "source": [
    "#### Crear los pipes finales de entrenamiento"
   ]
  },
  {
   "cell_type": "code",
   "execution_count": 30,
   "id": "0efb038b",
   "metadata": {
    "ExecuteTime": {
     "end_time": "2024-04-23T11:34:49.338395Z",
     "start_time": "2024-04-23T11:34:49.333059Z"
    }
   },
   "outputs": [],
   "source": [
    "pipe_entrenamiento_pd = make_pipeline(pipe_prepo,modelo_pd)\n",
    "\n",
    "pipe_entrenamiento_ead = make_pipeline(pipe_prepo,modelo_ead)\n",
    "\n",
    "pipe_entrenamiento_lgd = make_pipeline(pipe_prepo,modelo_lgd)"
   ]
  },
  {
   "cell_type": "markdown",
   "id": "cb0700d8",
   "metadata": {},
   "source": [
    "#### Guardar el pipe final de entrenamiento"
   ]
  },
  {
   "cell_type": "code",
   "execution_count": 31,
   "id": "74b5beda",
   "metadata": {
    "ExecuteTime": {
     "end_time": "2024-04-23T11:35:13.688298Z",
     "start_time": "2024-04-23T11:35:13.672973Z"
    }
   },
   "outputs": [],
   "source": [
    "ruta_pipe_entrenamiento_pd = ruta_proyecto + '/04_Modelos/pipe_entrenamiento_pd.pickle'\n",
    "\n",
    "with open(ruta_pipe_entrenamiento_pd, mode='wb') as file:\n",
    "   pickle.dump(pipe_entrenamiento_pd, file)"
   ]
  },
  {
   "cell_type": "code",
   "execution_count": 32,
   "id": "1dbf4597",
   "metadata": {
    "ExecuteTime": {
     "end_time": "2024-04-23T11:35:14.501977Z",
     "start_time": "2024-04-23T11:35:14.493964Z"
    }
   },
   "outputs": [],
   "source": [
    "ruta_pipe_entrenamiento_ead = ruta_proyecto + '/04_Modelos/pipe_entrenamiento_ead.pickle'\n",
    "\n",
    "with open(ruta_pipe_entrenamiento_ead, mode='wb') as file:\n",
    "   pickle.dump(pipe_entrenamiento_ead, file)"
   ]
  },
  {
   "cell_type": "code",
   "execution_count": 33,
   "id": "004f26f1",
   "metadata": {
    "ExecuteTime": {
     "end_time": "2024-04-23T11:35:15.270568Z",
     "start_time": "2024-04-23T11:35:15.255801Z"
    }
   },
   "outputs": [],
   "source": [
    "ruta_pipe_entrenamiento_lgd = ruta_proyecto + '/04_Modelos/pipe_entrenamiento_lgd.pickle'\n",
    "\n",
    "with open(ruta_pipe_entrenamiento_lgd, mode='wb') as file:\n",
    "   pickle.dump(pipe_entrenamiento_lgd, file)"
   ]
  },
  {
   "cell_type": "markdown",
   "id": "2c7e5ed1",
   "metadata": {},
   "source": [
    "#### Entrenar los pipes"
   ]
  },
  {
   "cell_type": "code",
   "execution_count": 34,
   "id": "13ca2db6",
   "metadata": {
    "ExecuteTime": {
     "end_time": "2024-04-23T11:39:02.813979Z",
     "start_time": "2024-04-23T11:35:19.063389Z"
    }
   },
   "outputs": [],
   "source": [
    "pipe_ejecucion_pd = pipe_entrenamiento_pd.fit(x_pd,y_pd)\n",
    "pipe_ejecucion_ead = pipe_entrenamiento_ead.fit(x_ead,y_ead)\n",
    "pipe_ejecucion_lgd = pipe_entrenamiento_lgd.fit(x_lgd,y_lgd)"
   ]
  },
  {
   "cell_type": "markdown",
   "id": "52e506db",
   "metadata": {},
   "source": [
    "## GUARDAR EL PIPE"
   ]
  },
  {
   "cell_type": "markdown",
   "id": "afba8bc8",
   "metadata": {},
   "source": [
    "### Guardar el pipe final de ejecución"
   ]
  },
  {
   "cell_type": "code",
   "execution_count": 35,
   "id": "1dda8f25",
   "metadata": {
    "ExecuteTime": {
     "end_time": "2024-04-23T11:40:28.213840Z",
     "start_time": "2024-04-23T11:40:28.199641Z"
    }
   },
   "outputs": [],
   "source": [
    "ruta_pipe_ejecucion_pd = ruta_proyecto + '/04_Modelos/pipe_ejecucion_pd.pickle'\n",
    "\n",
    "with open(ruta_pipe_ejecucion_pd, mode='wb') as file:\n",
    "   pickle.dump(pipe_ejecucion_pd, file)"
   ]
  },
  {
   "cell_type": "code",
   "execution_count": 36,
   "id": "dcde2dbb",
   "metadata": {
    "ExecuteTime": {
     "end_time": "2024-04-23T11:40:29.108007Z",
     "start_time": "2024-04-23T11:40:29.082887Z"
    }
   },
   "outputs": [],
   "source": [
    "ruta_pipe_ejecucion_ead = ruta_proyecto + '/04_Modelos/pipe_ejecucion_ead.pickle'\n",
    "\n",
    "with open(ruta_pipe_ejecucion_ead, mode='wb') as file:\n",
    "   pickle.dump(pipe_ejecucion_ead, file)"
   ]
  },
  {
   "cell_type": "code",
   "execution_count": 37,
   "id": "9b5a5b3e",
   "metadata": {
    "ExecuteTime": {
     "end_time": "2024-04-23T11:40:29.859099Z",
     "start_time": "2024-04-23T11:40:29.836612Z"
    }
   },
   "outputs": [],
   "source": [
    "ruta_pipe_ejecucion_lgd = ruta_proyecto + '/04_Modelos/pipe_ejecucion_lgd.pickle'\n",
    "\n",
    "with open(ruta_pipe_ejecucion_lgd, mode='wb') as file:\n",
    "   pickle.dump(pipe_ejecucion_lgd, file)"
   ]
  },
  {
   "cell_type": "markdown",
   "id": "c27d90fa-7bb7-419b-9d36-7d0b5fa38912",
   "metadata": {},
   "source": [
    "# EVALUACIÓN DEL MODELO FINAL"
   ]
  },
  {
   "cell_type": "markdown",
   "id": "b7acaa87-061b-4884-bbf0-68c79216edec",
   "metadata": {},
   "source": [
    "Cargamos dataset de validación."
   ]
  },
  {
   "cell_type": "code",
   "execution_count": 169,
   "id": "3ee3255e-dcb2-42ec-a1a1-727f9e560888",
   "metadata": {},
   "outputs": [],
   "source": [
    "nombre_fichero_datos = 'validacion.csv'\n",
    "ruta_completa = ruta_proyecto + '/02_Datos/02_Validacion/' + nombre_fichero_datos\n",
    "df_eval = pd.read_csv(ruta_completa,index_col='id_cliente').drop(columns='Unnamed: 0')"
   ]
  },
  {
   "cell_type": "markdown",
   "id": "dc7e55d3-9582-45c8-8ff6-05b17fe7974b",
   "metadata": {},
   "source": [
    "Aplicamos las transformaciones correspondientes:"
   ]
  },
  {
   "cell_type": "code",
   "execution_count": 170,
   "id": "29ffe11c-fce7-49d8-ab62-936c768b454f",
   "metadata": {},
   "outputs": [],
   "source": [
    "a_eliminar = df_eval.loc[df_eval.ingresos > 300000].index.values\n",
    "df_eval = df_eval[~df_eval.index.isin(a_eliminar)]\n",
    "df_eval = df_eval[variables_finales]"
   ]
  },
  {
   "cell_type": "code",
   "execution_count": 171,
   "id": "901fee3e-3ff1-40f8-9d97-6af74851490a",
   "metadata": {},
   "outputs": [],
   "source": [
    "# CALIDAD Y CREACION DE VARIABLES\n",
    "x_eval_pd, y_eval_pd = creacion_variables_pd(calidad_datos(df_eval))\n",
    "x_eval_ead, y_eval_ead = creacion_variables_ead(calidad_datos(df_eval))\n",
    "x_eval_lgd, y_eval_lgd = creacion_variables_lgd(calidad_datos(df_eval))"
   ]
  },
  {
   "cell_type": "code",
   "execution_count": 172,
   "id": "8fd000fa-ccb3-477f-a7bc-e1658248fb33",
   "metadata": {},
   "outputs": [],
   "source": [
    "# EJECUCIÓN\n",
    "scoring_pd = pipe_ejecucion_pd.predict_proba(x_eval_pd)[:, 1]\n",
    "ead = pipe_ejecucion_ead.predict(x_eval_ead)\n",
    "lgd = pipe_ejecucion_lgd.predict(x_eval_lgd)\n",
    "\n",
    "# RESULTADO\n",
    "principal = x_eval_pd.principal\n",
    "EL = pd.DataFrame({'principal':principal,\n",
    "                   'pd':scoring_pd,\n",
    "                   'ead':ead,\n",
    "                   'lgd':lgd                   \n",
    "                   })\n",
    "EL['EL_model'] = round(EL.pd * EL.principal * EL.ead * EL.lgd,2)\n",
    "EL['EL_real'] = round(y_eval_pd * EL.principal * y_eval_ead * y_eval_lgd,2)\n",
    "EL.EL_real.fillna(0, inplace = True)"
   ]
  },
  {
   "cell_type": "code",
   "execution_count": 189,
   "id": "c7e17a06-0f58-4258-927d-deb447bad294",
   "metadata": {},
   "outputs": [
    {
     "data": {
      "image/png": "[encoded data removed]",
      "text/plain": [
       "<Figure size 700x450 with 1 Axes>"
      ]
     },
     "metadata": {},
     "output_type": "display_data"
    }
   ],
   "source": [
    "plt.figure(figsize = (7,4.5))\n",
    "sns.scatterplot(data = EL, x = 'EL_real', y = 'EL_model', alpha = 0.1);\n",
    "#plt.axis('equal');\n",
    "#ax = plt.gca()\n",
    "#ax.set_aspect('equal', adjustable='box')\n",
    "plt.tight_layout()\n",
    "plt.savefig('exhibit_10.png')"
   ]
  },
  {
   "cell_type": "code",
   "execution_count": 192,
   "id": "5ac855ba-bc7f-4f09-aeac-1d4730870d37",
   "metadata": {},
   "outputs": [
    {
     "data": {
      "text/html": [
       "<div>\n",
       "<style scoped>\n",
       "    .dataframe tbody tr th:only-of-type {\n",
       "        vertical-align: middle;\n",
       "    }\n",
       "\n",
       "    .dataframe tbody tr th {\n",
       "        vertical-align: top;\n",
       "    }\n",
       "\n",
       "    .dataframe thead th {\n",
       "        text-align: right;\n",
       "    }\n",
       "</style>\n",
       "<table border=\"1\" class=\"dataframe\">\n",
       "  <thead>\n",
       "    <tr style=\"text-align: right;\">\n",
       "      <th></th>\n",
       "      <th>principal</th>\n",
       "      <th>pd</th>\n",
       "      <th>ead</th>\n",
       "      <th>lgd</th>\n",
       "      <th>EL_model</th>\n",
       "      <th>EL_real</th>\n",
       "      <th>target_pd</th>\n",
       "      <th>target_ead</th>\n",
       "      <th>target_lgd</th>\n",
       "    </tr>\n",
       "    <tr>\n",
       "      <th>id_cliente</th>\n",
       "      <th></th>\n",
       "      <th></th>\n",
       "      <th></th>\n",
       "      <th></th>\n",
       "      <th></th>\n",
       "      <th></th>\n",
       "      <th></th>\n",
       "      <th></th>\n",
       "      <th></th>\n",
       "    </tr>\n",
       "  </thead>\n",
       "  <tbody>\n",
       "    <tr>\n",
       "      <th>6523777</th>\n",
       "      <td>24600.0</td>\n",
       "      <td>0.076405</td>\n",
       "      <td>0.047435</td>\n",
       "      <td>0.077318</td>\n",
       "      <td>6.89</td>\n",
       "      <td>0.00</td>\n",
       "      <td>0</td>\n",
       "      <td>0.000000</td>\n",
       "      <td>0.0</td>\n",
       "    </tr>\n",
       "    <tr>\n",
       "      <th>127564341</th>\n",
       "      <td>35000.0</td>\n",
       "      <td>0.087812</td>\n",
       "      <td>0.453583</td>\n",
       "      <td>0.619178</td>\n",
       "      <td>863.17</td>\n",
       "      <td>0.00</td>\n",
       "      <td>0</td>\n",
       "      <td>0.841877</td>\n",
       "      <td>1.0</td>\n",
       "    </tr>\n",
       "    <tr>\n",
       "      <th>85751427</th>\n",
       "      <td>20000.0</td>\n",
       "      <td>0.038254</td>\n",
       "      <td>0.122111</td>\n",
       "      <td>0.291714</td>\n",
       "      <td>27.25</td>\n",
       "      <td>0.00</td>\n",
       "      <td>0</td>\n",
       "      <td>0.125611</td>\n",
       "      <td>1.0</td>\n",
       "    </tr>\n",
       "    <tr>\n",
       "      <th>50183160</th>\n",
       "      <td>9600.0</td>\n",
       "      <td>0.084502</td>\n",
       "      <td>0.114751</td>\n",
       "      <td>0.235877</td>\n",
       "      <td>21.96</td>\n",
       "      <td>0.00</td>\n",
       "      <td>0</td>\n",
       "      <td>0.000000</td>\n",
       "      <td>0.0</td>\n",
       "    </tr>\n",
       "    <tr>\n",
       "      <th>81468644</th>\n",
       "      <td>7200.0</td>\n",
       "      <td>0.108671</td>\n",
       "      <td>0.083710</td>\n",
       "      <td>0.276747</td>\n",
       "      <td>18.13</td>\n",
       "      <td>0.00</td>\n",
       "      <td>0</td>\n",
       "      <td>0.000000</td>\n",
       "      <td>0.0</td>\n",
       "    </tr>\n",
       "    <tr>\n",
       "      <th>...</th>\n",
       "      <td>...</td>\n",
       "      <td>...</td>\n",
       "      <td>...</td>\n",
       "      <td>...</td>\n",
       "      <td>...</td>\n",
       "      <td>...</td>\n",
       "      <td>...</td>\n",
       "      <td>...</td>\n",
       "      <td>...</td>\n",
       "    </tr>\n",
       "    <tr>\n",
       "      <th>145245827</th>\n",
       "      <td>20000.0</td>\n",
       "      <td>0.099656</td>\n",
       "      <td>0.868253</td>\n",
       "      <td>0.849327</td>\n",
       "      <td>1469.78</td>\n",
       "      <td>0.00</td>\n",
       "      <td>0</td>\n",
       "      <td>0.968140</td>\n",
       "      <td>1.0</td>\n",
       "    </tr>\n",
       "    <tr>\n",
       "      <th>12796419</th>\n",
       "      <td>14675.0</td>\n",
       "      <td>0.225514</td>\n",
       "      <td>0.395890</td>\n",
       "      <td>0.641923</td>\n",
       "      <td>841.02</td>\n",
       "      <td>7426.32</td>\n",
       "      <td>1</td>\n",
       "      <td>0.506052</td>\n",
       "      <td>1.0</td>\n",
       "    </tr>\n",
       "    <tr>\n",
       "      <th>96319652</th>\n",
       "      <td>17000.0</td>\n",
       "      <td>0.047591</td>\n",
       "      <td>0.215410</td>\n",
       "      <td>0.408892</td>\n",
       "      <td>71.26</td>\n",
       "      <td>0.00</td>\n",
       "      <td>0</td>\n",
       "      <td>0.000000</td>\n",
       "      <td>0.0</td>\n",
       "    </tr>\n",
       "    <tr>\n",
       "      <th>5766862</th>\n",
       "      <td>20000.0</td>\n",
       "      <td>0.153316</td>\n",
       "      <td>0.081871</td>\n",
       "      <td>0.171146</td>\n",
       "      <td>42.97</td>\n",
       "      <td>0.00</td>\n",
       "      <td>0</td>\n",
       "      <td>0.000000</td>\n",
       "      <td>0.0</td>\n",
       "    </tr>\n",
       "    <tr>\n",
       "      <th>138599449</th>\n",
       "      <td>10000.0</td>\n",
       "      <td>0.043288</td>\n",
       "      <td>0.528108</td>\n",
       "      <td>0.647261</td>\n",
       "      <td>147.97</td>\n",
       "      <td>0.00</td>\n",
       "      <td>0</td>\n",
       "      <td>0.822059</td>\n",
       "      <td>1.0</td>\n",
       "    </tr>\n",
       "  </tbody>\n",
       "</table>\n",
       "<p>59598 rows × 9 columns</p>\n",
       "</div>"
      ],
      "text/plain": [
       "            principal        pd       ead       lgd  EL_model  EL_real  \\\n",
       "id_cliente                                                               \n",
       "6523777       24600.0  0.076405  0.047435  0.077318      6.89     0.00   \n",
       "127564341     35000.0  0.087812  0.453583  0.619178    863.17     0.00   \n",
       "85751427      20000.0  0.038254  0.122111  0.291714     27.25     0.00   \n",
       "50183160       9600.0  0.084502  0.114751  0.235877     21.96     0.00   \n",
       "81468644       7200.0  0.108671  0.083710  0.276747     18.13     0.00   \n",
       "...               ...       ...       ...       ...       ...      ...   \n",
       "145245827     20000.0  0.099656  0.868253  0.849327   1469.78     0.00   \n",
       "12796419      14675.0  0.225514  0.395890  0.641923    841.02  7426.32   \n",
       "96319652      17000.0  0.047591  0.215410  0.408892     71.26     0.00   \n",
       "5766862       20000.0  0.153316  0.081871  0.171146     42.97     0.00   \n",
       "138599449     10000.0  0.043288  0.528108  0.647261    147.97     0.00   \n",
       "\n",
       "            target_pd  target_ead  target_lgd  \n",
       "id_cliente                                     \n",
       "6523777             0    0.000000         0.0  \n",
       "127564341           0    0.841877         1.0  \n",
       "85751427            0    0.125611         1.0  \n",
       "50183160            0    0.000000         0.0  \n",
       "81468644            0    0.000000         0.0  \n",
       "...               ...         ...         ...  \n",
       "145245827           0    0.968140         1.0  \n",
       "12796419            1    0.506052         1.0  \n",
       "96319652            0    0.000000         0.0  \n",
       "5766862             0    0.000000         0.0  \n",
       "138599449           0    0.822059         1.0  \n",
       "\n",
       "[59598 rows x 9 columns]"
      ]
     },
     "execution_count": 192,
     "metadata": {},
     "output_type": "execute_result"
    }
   ],
   "source": [
    "pd.concat([EL,y_eval_pd,y_eval_ead,y_eval_lgd],axis = 1)"
   ]
  }
 ],
 "metadata": {
  "hide_input": false,
  "kernelspec": {
   "display_name": "Python 3 (ipykernel)",
   "language": "python",
   "name": "python3"
  },
  "language_info": {
   "codemirror_mode": {
    "name": "ipython",
    "version": 3
   },
   "file_extension": ".py",
   "mimetype": "text/x-python",
   "name": "python",
   "nbconvert_exporter": "python",
   "pygments_lexer": "ipython3",
   "version": "3.12.3"
  },
  "nbTranslate": {
   "displayLangs": [
    "*"
   ],
   "hotkey": "alt-t",
   "langInMainMenu": true,
   "sourceLang": "en",
   "targetLang": "fr",
   "useGoogleTranslate": true
  },
  "toc": {
   "base_numbering": 1,
   "nav_menu": {},
   "number_sections": true,
   "sideBar": true,
   "skip_h1_title": false,
   "title_cell": "Table of Contents",
   "title_sidebar": "Contents",
   "toc_cell": false,
   "toc_position": {
    "height": "calc(100% - 180px)",
    "left": "10px",
    "top": "150px",
    "width": "383.367px"
   },
   "toc_section_display": true,
   "toc_window_display": true
  },
  "varInspector": {
   "cols": {
    "lenName": 16,
    "lenType": 16,
    "lenVar": 40
   },
   "kernels_config": {
    "python": {
     "delete_cmd_postfix": "",
     "delete_cmd_prefix": "del ",
     "library": "var_list.py",
     "varRefreshCmd": "print(var_dic_list())"
    },
    "r": {
     "delete_cmd_postfix": ") ",
     "delete_cmd_prefix": "rm(",
     "library": "var_list.r",
     "varRefreshCmd": "cat(var_dic_list()) "
    }
   },
   "position": {
    "height": "437.85px",
    "left": "1550px",
    "right": "20px",
    "top": "120px",
    "width": "350px"
   },
   "types_to_exclude": [
    "module",
    "function",
    "builtin_function_or_method",
    "instance",
    "_Feature"
   ],
   "window_display": false
  }
 },
 "nbformat": 4,
 "nbformat_minor": 5
}
